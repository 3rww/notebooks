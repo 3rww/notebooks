{
 "cells": [
  {
   "cell_type": "markdown",
   "metadata": {
    "slideshow": {
     "slide_type": "slide"
    }
   },
   "source": [
    "# Engaging Rain Gauges\n",
    "\n",
    "*Building a data pipeline and API for GIS people, by GIS people*"
   ]
  },
  {
   "cell_type": "markdown",
   "metadata": {
    "slideshow": {
     "slide_type": "skip"
    }
   },
   "source": [
    "This notebook serves as \n",
    "\n",
    "* an overview of the capability of the rain gauge and calibrated radar rainfall system operated by 3 Rivers Wet Weath\n",
    "* an interactive demonstration of using the 3RWW Rainfall API to access that data and the visualize it in a notebook with the *ArcGIS API for Python*"
   ]
  },
  {
   "cell_type": "code",
   "execution_count": 1,
   "metadata": {
    "slideshow": {
     "slide_type": "skip"
    }
   },
   "outputs": [],
   "source": [
    "import IPython"
   ]
  },
  {
   "cell_type": "markdown",
   "metadata": {
    "slideshow": {
     "slide_type": "skip"
    }
   },
   "source": [
    "    * introduce 3rww's system\n",
    "    * design requirements: replacing existing system and *workflows*.\n",
    "    * design goals: enhancing for the modern web (API first) and for use in geospatial tools (web and desktop GIS). Show existing AGOL map.\n",
    "    * questions?\n",
    "    ---\n",
    "    * getting it working:\n",
    "        * step 1: serverless data pipelines (AWS via Stackery)\n",
    "        * step 2: database + API (Postgres + Django on Heroku)\n",
    "            * https://trwwapi.herokuapp.com/rainfall/docs/swagger-ui or https://trwwapi.herokuapp.com/rainfall/docs/redoc/\n",
    "            * API by GIS people for GIS people\n",
    "        * step 3: ETL, visualize, interact, download your way\n",
    "\n",
    "    * questions?\n",
    "\n",
    "    * example:\n",
    "        * get an AOI, get the pixels, and then get the pixels in the AOI, all with *ArcGIS API for Python*\n",
    "        * make a request to the Rainfall API (the \"shortcut endpoints\")\n",
    "        * join the result to the pixel layer\n",
    "        * load the layer to a map in the notebook\n",
    "\n",
    "    * questions?\n",
    "\n",
    "    ---\n",
    "    * other example:\n",
    "        * Make-It Rain web app\n",
    "\n",
    "    * last call"
   ]
  },
  {
   "cell_type": "markdown",
   "metadata": {
    "slideshow": {
     "slide_type": "slide"
    }
   },
   "source": [
    "## The Problem Space: Rain Gauges + Radar Rainfall Estimates\n",
    "\n",
    "When radar estimates of rainfall are calibrated with actual rain gauge data, a highly accurate and valuable source of rainfall data can be calculated over large geographic areas. \n",
    "\n",
    "The result is called *Calibrated Radar Rainfall Data*, or *Gauge-Adjusted Radar Rainfall Data*"
   ]
  },
  {
   "cell_type": "markdown",
   "metadata": {
    "slideshow": {
     "slide_type": "fragment"
    }
   },
   "source": [
    "[3 Rivers Wet Weather (3RWW)](https://www.3riverswetweather.org), with support from [Vieux Associates](http://www.vieuxinc.com/) and [Datawise](https://datawise.software/), uses rainfall data from the NEXRAD radar located in Moon Township, PA calibrated by rain gauge measurements to produce a map of on-the-ground rainfall estimates for every square kilometer in Allegheny County.\n",
    "\n",
    "This is equivalent in accuracy of having 2,276 rain gauges on the ground."
   ]
  },
  {
   "cell_type": "markdown",
   "metadata": {
    "slideshow": {
     "slide_type": "skip"
    }
   },
   "source": [
    "You can view and explore this data on 3RWW's calibrated radar rainfall data site at [www.3riverswetweather.org/municipalities/calibrated-radar-rainfall-data](http://www.3riverswetweather.org/municipalities/calibrated-radar-rainfall-data)\n",
    "\n",
    "This notebook walks through how to programmatically access 3RWW's massive repository of high resolution spatiotemporal rainfall data for Allegheny County via the ***3RWW Data API*** for an area of interest."
   ]
  },
  {
   "cell_type": "markdown",
   "metadata": {
    "slideshow": {
     "slide_type": "slide"
    }
   },
   "source": [
    "# The system is +20 years old!\n",
    "\n",
    "<img src=\"https://www.arcgis.com/sharing/rest/content/items/0ebf224e84d547f6b08fb9ae910084af/resources/garr.jpeg?v=1614741684802&w=800\"/>"
   ]
  },
  {
   "cell_type": "markdown",
   "metadata": {
    "slideshow": {
     "slide_type": "subslide"
    }
   },
   "source": [
    "In 2019, it began to look like the existing stack would need to be replaced. That included:\n",
    "\n",
    "* Data pipelines to consume four rainfall data sources\n",
    "* A database capable of storing twenty years worth of records (+1.5 billion observations)\n",
    "* A user interface\n",
    "\n",
    "Fortunately, we had already started to think about the problem and has some resources ready."
   ]
  },
  {
   "cell_type": "code",
   "execution_count": 2,
   "metadata": {
    "slideshow": {
     "slide_type": "fragment"
    }
   },
   "outputs": [
    {
     "data": {
      "text/html": [
       "<iframe src=\"https://data-3rww.opendata.arcgis.com/app/3rww-rain-gauge-map-1\" width=1024 height=500/>"
      ],
      "text/plain": [
       "<IPython.core.display.HTML object>"
      ]
     },
     "execution_count": 2,
     "metadata": {},
     "output_type": "execute_result"
    }
   ],
   "source": [
    "IPython.display.HTML('<iframe src=\"https://data-3rww.opendata.arcgis.com/app/3rww-rain-gauge-map-1\" width=1024 height=500/>')"
   ]
  },
  {
   "cell_type": "markdown",
   "metadata": {
    "slideshow": {
     "slide_type": "subslide"
    }
   },
   "source": [
    "### In planning a replacement we needed to:"
   ]
  },
  {
   "cell_type": "markdown",
   "metadata": {
    "slideshow": {
     "slide_type": "fragment"
    }
   },
   "source": [
    "* Respect existing workflows. Existing users needed to be able to get the data in a familiar way.\n",
    "* Make data available for use in geospatial tools. More and more folks asking to use this in GIS.\n",
    "* Create an up-to-date web experience. Mobile first; support the potential for integrations in one or more sites."
   ]
  },
  {
   "cell_type": "markdown",
   "metadata": {
    "slideshow": {
     "slide_type": "slide"
    }
   },
   "source": [
    "# Building a Replacement Stack"
   ]
  },
  {
   "cell_type": "markdown",
   "metadata": {
    "slideshow": {
     "slide_type": "notes"
    }
   },
   "source": [
    "The way we had to approach the problem meant we were thinking about storing a lot of archival data first, and then figuring out how to get data on recurring basis from the various sources."
   ]
  },
  {
   "cell_type": "markdown",
   "metadata": {
    "slideshow": {
     "slide_type": "subslide"
    }
   },
   "source": [
    "## Data Pipelines \n",
    "\n",
    "![](https://civicmapper.com/assets/img/proj/pipeline.png)\n",
    "\n",
    "Stackery (https://www.stackery.io/) handles all orchestration."
   ]
  },
  {
   "cell_type": "markdown",
   "metadata": {
    "slideshow": {
     "slide_type": "subslide"
    }
   },
   "source": [
    "* Recurring and periodic pipelines for real-time/provisional and historic/calibrated datasets. \n",
    "* Event-driven from end-to-end.\n",
    "* In-line process for long-term storage of raw data in S3 buckets.\n",
    "* Services that only run when they need to"
   ]
  },
  {
   "cell_type": "markdown",
   "metadata": {
    "slideshow": {
     "slide_type": "subslide"
    }
   },
   "source": [
    "## Database + API"
   ]
  },
  {
   "cell_type": "markdown",
   "metadata": {
    "slideshow": {
     "slide_type": "fragment"
    }
   },
   "source": [
    "<img src=\"https://cdn.artandlogic.com/wp-content/uploads/2014/12/django-logo-negative-300x136.png\" style=\"display: block; float: left; margin: 20px; height: 100px;\">\n",
    "<img src=\"https://upload.wikimedia.org/wikipedia/en/thumb/6/60/PostGIS_logo.png/150px-PostGIS_logo.png\" style=\"display: block; float: left; margin: 20px; height: 100px;\">\n",
    "<img src=\"http://datablend.be/wp-content/uploads/2013/01/redis_logo-290x220-cropped.png\" style=\"display: block; float: left; margin: 20px; height: 100px;\">\n",
    "<img src=\"https://dailysmarty-production.s3.amazonaws.com/uploads/post/img/509/feature_thumb_heroku-logo.jpg\" style=\"display: block; float: left; margin: 20px; height: 100px;\">"
   ]
  },
  {
   "cell_type": "markdown",
   "metadata": {
    "slideshow": {
     "slide_type": "subslide"
    }
   },
   "source": [
    "### Why?\n",
    "\n",
    "* We're just getting slices from tables in a database and want to expose them simply through a read-only REST API.\n",
    "* Spatial is a secondary consideration when storing and serving this data.\n",
    "* The most tempting queries are the longest running.\n",
    "* Being able to auto-generate documentation for the API is a bonus: [ReDoc](https://trwwapi.herokuapp.com/rainfall/docs/swagger-ui) and [Swagger](https://trwwapi.herokuapp.com/rainfall/docs/redoc/) "
   ]
  },
  {
   "cell_type": "markdown",
   "metadata": {
    "slideshow": {
     "slide_type": "subslide"
    }
   },
   "source": [
    "**When we need to, we create endpoints for specific uses cases, workflows, and technology integrations.**"
   ]
  },
  {
   "cell_type": "markdown",
   "metadata": {
    "slideshow": {
     "slide_type": "subslide"
    }
   },
   "source": [
    "## With that: ETL, visualize, interact, and download your way"
   ]
  },
  {
   "cell_type": "markdown",
   "metadata": {
    "slideshow": {
     "slide_type": "slide"
    }
   },
   "source": [
    "# Engaging Rain Gauges\n",
    "\n",
    "Working with 3RWW Rainfall in a Jupyter Notebook with the ArcGIS API for Python "
   ]
  },
  {
   "cell_type": "markdown",
   "metadata": {
    "slideshow": {
     "slide_type": "subslide"
    }
   },
   "source": [
    "## Notebook Setup"
   ]
  },
  {
   "cell_type": "code",
   "execution_count": 28,
   "metadata": {
    "slideshow": {
     "slide_type": "fragment"
    }
   },
   "outputs": [],
   "source": [
    "# ----------------------------------\n",
    "# imports from the Python standard library\n",
    "\n",
    "import json #read and write JSON\n",
    "from time import sleep\n",
    "from statistics import mean, stdev\n",
    "from copy import deepcopy\n",
    "\n",
    "# ----------------------------------\n",
    "# imports from 3rd-party libraries\n",
    "\n",
    "# Requests - HTTP requests for humans\n",
    "import requests\n",
    "# PETL - an Extract/Transform/Load toolbox\n",
    "import petl as etl\n",
    "# Python DateUtil (parser) - a helper for reading timestamps\n",
    "from dateutil.parser import parse\n",
    "\n",
    "# ArcGIS API for Python - for accessing 3RWW's open reference datasets in ArcGIS Online\n",
    "from arcgis.gis import GIS\n",
    "from arcgis import geometry, GeoAccessor\n",
    "\n",
    "# for displaying things from the ArcGIS Online in this Jupyter notebook\n",
    "from IPython.display import display"
   ]
  },
  {
   "cell_type": "markdown",
   "metadata": {
    "slideshow": {
     "slide_type": "slide"
    }
   },
   "source": [
    "# First: Let's get some test rainfall data from the API\n",
    "\n",
    "Getting rainfall data programmatically is a straightforward endeavor: it requires you to submit a HTTP request with parameters (as `JSON` payload) specifying locations of interest and a time range. It returns a `JSON` with timestamps, rainfall values, and some metadata about the observation."
   ]
  },
  {
   "cell_type": "code",
   "execution_count": 4,
   "metadata": {
    "slideshow": {
     "slide_type": "subslide"
    }
   },
   "outputs": [],
   "source": [
    "# using the python requests library\n",
    "response = requests.post(\n",
    "    url=\"http://localhost:7000/rainfall/v2/gauge/realtime/\",\n",
    "    json={\n",
    "        'start_dt':'2021-02-28T00:00:00',\n",
    "        'end_dt':'2021-03-02T00:00:00',\n",
    "        'rollup': 'daily',\n",
    "        'gauges': '2,8,9',\n",
    "        'f': 'sensor' # results as timeseries per sensor, instead sensors per timeseries\n",
    "    } # Note we're using the `json` kwarg for `request.post` instead of params (default) or data\n",
    ")"
   ]
  },
  {
   "cell_type": "markdown",
   "metadata": {
    "slideshow": {
     "slide_type": "subslide"
    }
   },
   "source": [
    "The `response` includes some information about our request and how to get our result: `jobUrl`."
   ]
  },
  {
   "cell_type": "code",
   "execution_count": 5,
   "metadata": {
    "slideshow": {
     "slide_type": "fragment"
    }
   },
   "outputs": [
    {
     "data": {
      "text/plain": [
       "{'args': {'start_dt': '2021-02-28T00:00:00',\n",
       "  'end_dt': '2021-03-02T00:00:00',\n",
       "  'rollup': 'daily',\n",
       "  'gauges': '2,8,9',\n",
       "  'f': 'sensor'},\n",
       " 'meta': {'jobId': '67ed570d-e5c5-437e-842b-d460e385608a',\n",
       "  'jobUrl': 'http://localhost:7000/rainfall/v2/gauge/realtime/67ed570d-e5c5-437e-842b-d460e385608a/'},\n",
       " 'data': None,\n",
       " 'status': 'queued',\n",
       " 'status_code': 200,\n",
       " 'messages': ['running job 67ed570d-e5c5-437e-842b-d460e385608a']}"
      ]
     },
     "execution_count": 5,
     "metadata": {},
     "output_type": "execute_result"
    }
   ],
   "source": [
    "response.json()"
   ]
  },
  {
   "cell_type": "markdown",
   "metadata": {
    "slideshow": {
     "slide_type": "subslide"
    }
   },
   "source": [
    "We can check for completion at that `jobUrl` manually...or use a `while` loop to check for us."
   ]
  },
  {
   "cell_type": "code",
   "execution_count": 6,
   "metadata": {
    "slideshow": {
     "slide_type": "subslide"
    }
   },
   "outputs": [
    {
     "name": "stdout",
     "output_type": "stream",
     "text": [
      "started ...\n",
      "Done!\n",
      " {'args': {'sensor_ids': '2,8,9', 'start_dt': '2021-02-28T00:00:00-05:00', 'end_dt': '2021-03-02T00:00:00-05:00', 'rollup': 'daily', 'zerofill': True, 'f': 'sensor'}, 'meta': {'records': 3, 'jobId': '67ed570d-e5c5-437e-842b-d460e385608a', 'jobUrl': 'http://localhost:7000/rainfall/v2/gauge/realtime/67ed570d-e5c5-437e-842b-d460e385608a/'}, 'data': [{'id': '2', 'data': [{'ts': '2021-02-28', 'val': 0.72, 'src': 'G'}, {'ts': '2021-03-01', 'val': 0.21, 'src': 'G'}, {'ts': '2021-03-02', 'val': 0, 'src': 'G'}]}, {'id': '8', 'data': [{'ts': '2021-02-28', 'val': 0.86, 'src': 'G'}, {'ts': '2021-03-01', 'val': 0.18, 'src': 'G'}, {'ts': '2021-03-02', 'val': 0, 'src': 'G'}]}, {'id': '9', 'data': [{'ts': '2021-02-28', 'val': 1.0, 'src': 'G'}, {'ts': '2021-03-01', 'val': 0.25, 'src': 'G'}, {'ts': '2021-03-02', 'val': 0, 'src': 'G'}]}], 'status': 'finished', 'status_code': 200, 'messages': []}\n"
     ]
    }
   ],
   "source": [
    "done = False\n",
    "\n",
    "while done == False:\n",
    "    \n",
    "    job = requests.get(response.json()['meta']['jobUrl'])\n",
    "    j = job.json()\n",
    "    \n",
    "    if j['status'] == 'finished':\n",
    "        done = True\n",
    "        print(\"Done!\\n\", job.json())\n",
    "        \n",
    "    elif j['status'] in ['deferred', 'failed', \"does not exist\", 'error']:\n",
    "        done = True\n",
    "        print(\"Something went wrong: {0}\".format(\"; \",join([m for m in j['messages']])))\n",
    "            \n",
    "    else:\n",
    "        print(j['status'],\"...\")\n",
    "        sleep(2)"
   ]
  },
  {
   "cell_type": "markdown",
   "metadata": {
    "slideshow": {
     "slide_type": "subslide"
    }
   },
   "source": [
    "Take a look at the results"
   ]
  },
  {
   "cell_type": "code",
   "execution_count": 7,
   "metadata": {
    "slideshow": {
     "slide_type": "fragment"
    }
   },
   "outputs": [
    {
     "data": {
      "text/html": [
       "<table class='petl'>\n",
       "<thead>\n",
       "<tr>\n",
       "<th>id</th>\n",
       "<th>data</th>\n",
       "</tr>\n",
       "</thead>\n",
       "<tbody>\n",
       "<tr>\n",
       "<td>2</td>\n",
       "<td>[{'ts': '2021-02-28', 'val': 0.72, 'src': 'G'}, {'ts': '2021-03-01', 'val': 0.21, 'src': 'G'}, {'ts': '2021-03-02', 'val': 0, 'src': 'G'}]</td>\n",
       "</tr>\n",
       "<tr>\n",
       "<td>8</td>\n",
       "<td>[{'ts': '2021-02-28', 'val': 0.86, 'src': 'G'}, {'ts': '2021-03-01', 'val': 0.18, 'src': 'G'}, {'ts': '2021-03-02', 'val': 0, 'src': 'G'}]</td>\n",
       "</tr>\n",
       "<tr>\n",
       "<td>9</td>\n",
       "<td>[{'ts': '2021-02-28', 'val': 1.0, 'src': 'G'}, {'ts': '2021-03-01', 'val': 0.25, 'src': 'G'}, {'ts': '2021-03-02', 'val': 0, 'src': 'G'}]</td>\n",
       "</tr>\n",
       "</tbody>\n",
       "</table>\n"
      ]
     },
     "metadata": {},
     "output_type": "display_data"
    }
   ],
   "source": [
    "result_table = etl.fromdicts(j['data'])\n",
    "etl.vis.display(result_table)"
   ]
  },
  {
   "cell_type": "markdown",
   "metadata": {
    "slideshow": {
     "slide_type": "subslide"
    }
   },
   "source": [
    "Calculate rainfall totals for each sensor"
   ]
  },
  {
   "cell_type": "code",
   "execution_count": 8,
   "metadata": {
    "slideshow": {
     "slide_type": "fragment"
    }
   },
   "outputs": [
    {
     "data": {
      "text/html": [
       "<table class='petl'>\n",
       "<thead>\n",
       "<tr>\n",
       "<th>id</th>\n",
       "<th>data</th>\n",
       "<th>total</th>\n",
       "</tr>\n",
       "</thead>\n",
       "<tbody>\n",
       "<tr>\n",
       "<td>2</td>\n",
       "<td>[{'ts': '2021-02-28', 'val': 0.72, 'src': 'G'}, {'ts': '2021-03-01', 'val': 0.21, 'src': 'G'}, {'ts': '2021-03-02', 'val': 0, 'src': 'G'}]</td>\n",
       "<td style='text-align: right'>0.93</td>\n",
       "</tr>\n",
       "<tr>\n",
       "<td>8</td>\n",
       "<td>[{'ts': '2021-02-28', 'val': 0.86, 'src': 'G'}, {'ts': '2021-03-01', 'val': 0.18, 'src': 'G'}, {'ts': '2021-03-02', 'val': 0, 'src': 'G'}]</td>\n",
       "<td style='text-align: right'>1.04</td>\n",
       "</tr>\n",
       "<tr>\n",
       "<td>9</td>\n",
       "<td>[{'ts': '2021-02-28', 'val': 1.0, 'src': 'G'}, {'ts': '2021-03-01', 'val': 0.25, 'src': 'G'}, {'ts': '2021-03-02', 'val': 0, 'src': 'G'}]</td>\n",
       "<td style='text-align: right'>1.25</td>\n",
       "</tr>\n",
       "</tbody>\n",
       "</table>\n"
      ],
      "text/plain": [
       "+-----+--------------------------------------------------------------------------------------------------------------------------------------------+-------+\n",
       "| id  | data                                                                                                                                       | total |\n",
       "+=====+============================================================================================================================================+=======+\n",
       "| '2' | [{'ts': '2021-02-28', 'val': 0.72, 'src': 'G'}, {'ts': '2021-03-01', 'val': 0.21, 'src': 'G'}, {'ts': '2021-03-02', 'val': 0, 'src': 'G'}] |  0.93 |\n",
       "+-----+--------------------------------------------------------------------------------------------------------------------------------------------+-------+\n",
       "| '8' | [{'ts': '2021-02-28', 'val': 0.86, 'src': 'G'}, {'ts': '2021-03-01', 'val': 0.18, 'src': 'G'}, {'ts': '2021-03-02', 'val': 0, 'src': 'G'}] |  1.04 |\n",
       "+-----+--------------------------------------------------------------------------------------------------------------------------------------------+-------+\n",
       "| '9' | [{'ts': '2021-02-28', 'val': 1.0, 'src': 'G'}, {'ts': '2021-03-01', 'val': 0.25, 'src': 'G'}, {'ts': '2021-03-02', 'val': 0, 'src': 'G'}]  |  1.25 |\n",
       "+-----+--------------------------------------------------------------------------------------------------------------------------------------------+-------+"
      ]
     },
     "execution_count": 8,
     "metadata": {},
     "output_type": "execute_result"
    }
   ],
   "source": [
    "result_table = etl.addfield(\n",
    "    result_table, \n",
    "    'total', \n",
    "    lambda row: round(sum(\n",
    "        [t['val'] for t in row['data'] if t['val'] is not None]\n",
    "    ), 2)\n",
    ")\n",
    "result_table"
   ]
  },
  {
   "cell_type": "markdown",
   "metadata": {
    "slideshow": {
     "slide_type": "subslide"
    }
   },
   "source": [
    "Now we have both timeseries and totals per sensor. This is all we need to get rainfall totals on a map."
   ]
  },
  {
   "cell_type": "markdown",
   "metadata": {
    "slideshow": {
     "slide_type": "slide"
    }
   },
   "source": [
    "# Next: Make the map\n",
    "\n",
    "As shown above, 3RWW's Rainfall Data API is not spatial: it returns rainfall values for locations at points in time, but those locations are only represented by IDs.\n",
    "\n",
    "(We keep the location separate from the observations because the sensors don't move.)\n",
    "\n",
    "To do anything that is location specific with this data (e.g., query rainfall in a specific watershed), you'll want some geodata for reference."
   ]
  },
  {
   "cell_type": "markdown",
   "metadata": {
    "slideshow": {
     "slide_type": "slide"
    }
   },
   "source": [
    "## Radar Pixel Polygons\n",
    "\n",
    "The pixel layer used for the calibrated radar rainfall data is available on [3RWW's Open Data Portal](http://data-3rww.opendata.arcgis.com/) at:\n",
    "\n",
    "* [data-3rww.opendata.arcgis.com/datasets/228b1584b89a45308ed4256c5bedd43d_1](https://data-3rww.opendata.arcgis.com/datasets/228b1584b89a45308ed4256c5bedd43d_1), and\n",
    "* [3rww.maps.arcgis.com/home/item.html?id=228b1584b89a45308ed4256c5bedd43d](https://3rww.maps.arcgis.com/home/item.html?id=228b1584b89a45308ed4256c5bedd43d)\n",
    "\n",
    "We'll use the ArcGIS API for Python to bring it in here."
   ]
  },
  {
   "cell_type": "code",
   "execution_count": 9,
   "metadata": {
    "slideshow": {
     "slide_type": "subslide"
    }
   },
   "outputs": [],
   "source": [
    "# Establish a connection to your 3RWW's ArcGIS Online portal.\n",
    "gis = GIS('https://3rww.maps.arcgis.com')"
   ]
  },
  {
   "cell_type": "markdown",
   "metadata": {
    "slideshow": {
     "slide_type": "subslide"
    }
   },
   "source": [
    "We can search for the feature layer by name:"
   ]
  },
  {
   "cell_type": "code",
   "execution_count": 10,
   "metadata": {
    "slideshow": {
     "slide_type": "fragment"
    }
   },
   "outputs": [
    {
     "data": {
      "text/html": [
       "<div class=\"item_container\" style=\"height: auto; overflow: hidden; border: 1px solid #cfcfcf; border-radius: 2px; background: #f6fafa; line-height: 1.21429em; padding: 10px;\">\n",
       "                    <div class=\"item_left\" style=\"width: 210px; float: left;\">\n",
       "                       <a href='https://3rww.maps.arcgis.com/home/item.html?id=228b1584b89a45308ed4256c5bedd43d' target='_blank'>\n",
       "                        <img src='https://3rww.maps.arcgis.com/sharing/rest//content/items/228b1584b89a45308ed4256c5bedd43d/info/thumbnail/thumbnail.png' class=\"itemThumbnail\">\n",
       "                       </a>\n",
       "                    </div>\n",
       "\n",
       "                    <div class=\"item_right\"     style=\"float: none; width: auto; overflow: hidden;\">\n",
       "                        <a href='https://3rww.maps.arcgis.com/home/item.html?id=228b1584b89a45308ed4256c5bedd43d' target='_blank'><b>Gauge Adjusted Radar Rainfall Data Geometry</b>\n",
       "                        </a>\n",
       "                        <br/>Geometry for 3RWW's Gauge-Adjusted Radar Rainfall Data. Note: this layer doesn't contain any rainfall data.<img src='https://3rww.maps.arcgis.com/home/js/jsapi/esri/css/images/item_type_icons/featureshosted16.png' style=\"vertical-align:middle;\">Feature Layer Collection by CM_3RWW\n",
       "                        <br/>Last Modified: November 07, 2018\n",
       "                        <br/>0 comments, 4,048 views\n",
       "                    </div>\n",
       "                </div>\n",
       "                "
      ],
      "text/plain": [
       "<Item title:\"Gauge Adjusted Radar Rainfall Data Geometry\" type:Feature Layer Collection owner:CM_3RWW>"
      ]
     },
     "metadata": {},
     "output_type": "display_data"
    }
   ],
   "source": [
    "search_results = gis.content.search('Gauge Adjusted Radar Rainfall Data')\n",
    "for item in search_results:\n",
    "    display(item)\n",
    "garrd_item = search_results[0]"
   ]
  },
  {
   "cell_type": "markdown",
   "metadata": {
    "slideshow": {
     "slide_type": "subslide"
    }
   },
   "source": [
    "Alternatively, we can use the item `id` to directly find the feature layer:"
   ]
  },
  {
   "cell_type": "code",
   "execution_count": 11,
   "metadata": {
    "slideshow": {
     "slide_type": "fragment"
    }
   },
   "outputs": [
    {
     "data": {
      "text/html": [
       "<div class=\"item_container\" style=\"height: auto; overflow: hidden; border: 1px solid #cfcfcf; border-radius: 2px; background: #f6fafa; line-height: 1.21429em; padding: 10px;\">\n",
       "                    <div class=\"item_left\" style=\"width: 210px; float: left;\">\n",
       "                       <a href='https://3rww.maps.arcgis.com/home/item.html?id=228b1584b89a45308ed4256c5bedd43d' target='_blank'>\n",
       "                        <img src='https://3rww.maps.arcgis.com/sharing/rest//content/items/228b1584b89a45308ed4256c5bedd43d/info/thumbnail/thumbnail.png' class=\"itemThumbnail\">\n",
       "                       </a>\n",
       "                    </div>\n",
       "\n",
       "                    <div class=\"item_right\"     style=\"float: none; width: auto; overflow: hidden;\">\n",
       "                        <a href='https://3rww.maps.arcgis.com/home/item.html?id=228b1584b89a45308ed4256c5bedd43d' target='_blank'><b>Gauge Adjusted Radar Rainfall Data Geometry</b>\n",
       "                        </a>\n",
       "                        <br/>Geometry for 3RWW's Gauge-Adjusted Radar Rainfall Data. Note: this layer doesn't contain any rainfall data.<img src='https://3rww.maps.arcgis.com/home/js/jsapi/esri/css/images/item_type_icons/featureshosted16.png' style=\"vertical-align:middle;\">Feature Layer Collection by CM_3RWW\n",
       "                        <br/>Last Modified: November 07, 2018\n",
       "                        <br/>0 comments, 4,051 views\n",
       "                    </div>\n",
       "                </div>\n",
       "                "
      ],
      "text/plain": [
       "<Item title:\"Gauge Adjusted Radar Rainfall Data Geometry\" type:Feature Layer Collection owner:CM_3RWW>"
      ]
     },
     "execution_count": 11,
     "metadata": {},
     "output_type": "execute_result"
    }
   ],
   "source": [
    "garrd_id = \"228b1584b89a45308ed4256c5bedd43d\"\n",
    "garrd_item = gis.content.get(itemid=garrd_id)\n",
    "garrd_item"
   ]
  },
  {
   "cell_type": "markdown",
   "metadata": {
    "slideshow": {
     "slide_type": "subslide"
    }
   },
   "source": [
    "Either way gets us `gaard_item`: a feature layer *collection* item, which contains individual feature layers. This one (we know from clicking on the item above), has both points and polygons variants of the GARRD reference geometry. We're interested in the polygons (grid). Get that as follows:"
   ]
  },
  {
   "cell_type": "code",
   "execution_count": 12,
   "metadata": {
    "slideshow": {
     "slide_type": "fragment"
    }
   },
   "outputs": [
    {
     "data": {
      "text/plain": [
       "<FeatureLayer url:\"https://services6.arcgis.com/dMKWX9NPCcfmaZl3/arcgis/rest/services/garrd/FeatureServer/1\">"
      ]
     },
     "execution_count": 12,
     "metadata": {},
     "output_type": "execute_result"
    }
   ],
   "source": [
    "garrd_grid = garrd_item.layers[1]\n",
    "garrd_grid"
   ]
  },
  {
   "cell_type": "markdown",
   "metadata": {},
   "source": [
    "Put in on a map:"
   ]
  },
  {
   "cell_type": "code",
   "execution_count": 13,
   "metadata": {
    "slideshow": {
     "slide_type": "slide"
    }
   },
   "outputs": [
    {
     "data": {
      "application/vnd.jupyter.widget-view+json": {
       "model_id": "0a2ee40b4844400680064db7c289d8a8",
       "version_major": 2,
       "version_minor": 0
      },
      "text/plain": [
       "MapView(layout=Layout(height='400px', width='100%'))"
      ]
     },
     "metadata": {},
     "output_type": "display_data"
    },
    {
     "data": {
      "text/html": [
       "<div class=\"map-static-img-preview-17680b54-f2e7-4c7b-bb7e-0e21107f4c12\"><img src=\"\"></img></div>"
      ],
      "text/plain": [
       "<IPython.core.display.HTML object>"
      ]
     },
     "metadata": {},
     "output_type": "display_data"
    },
    {
     "data": {
      "text/html": [
       "<div class=\"map-html-embed-preview-17680b54-f2e7-4c7b-bb7e-0e21107f4c12\"></div>"
      ],
      "text/plain": [
       "<IPython.core.display.HTML object>"
      ]
     },
     "metadata": {},
     "output_type": "display_data"
    }
   ],
   "source": [
    "m = gis.map('Pittsburgh')\n",
    "m.add_layer(garrd_grid)\n",
    "display(m)"
   ]
  },
  {
   "cell_type": "markdown",
   "metadata": {
    "slideshow": {
     "slide_type": "slide"
    }
   },
   "source": [
    "Finally, we can turn that into a `geojson`-like Python dictionary."
   ]
  },
  {
   "cell_type": "code",
   "execution_count": 14,
   "metadata": {
    "slideshow": {
     "slide_type": "fragment"
    }
   },
   "outputs": [],
   "source": [
    "q = garrd_grid.query(out_sr=4326)\n",
    "garrd_grid_geojson = q.to_geojson"
   ]
  },
  {
   "cell_type": "markdown",
   "metadata": {
    "slideshow": {
     "slide_type": "slide"
    }
   },
   "source": [
    "## Area of Interest Polygons\n",
    "\n",
    "Next, we'll establish an area of interest using a polygon from an existing dataset: the Saw Mill Run watershed.\n",
    "\n",
    "Allegheny County has a watershed dataset in ArcGIS Online, so we'll use that for this example. It's available here:\n",
    "\n",
    "* http://openac-alcogis.opendata.arcgis.com/datasets/364f4c3613164f79a1d8c84aed6c03e0_0\n",
    "\n",
    "(Note that you could swap this out for any online geodata service that provides polygons, and this will work)"
   ]
  },
  {
   "cell_type": "code",
   "execution_count": 15,
   "metadata": {
    "scrolled": true,
    "slideshow": {
     "slide_type": "subslide"
    }
   },
   "outputs": [],
   "source": [
    "# use the item ID from the link above to get the layer\n",
    "watersheds_item = gis.content.get(itemid=\"364f4c3613164f79a1d8c84aed6c03e0\")\n",
    "watersheds_layer = watersheds_item.layers[0]\n",
    "basin = watersheds_layer.query(where=\"DESCR like '%GIRTYS%'\", out_sr=4326)"
   ]
  },
  {
   "cell_type": "code",
   "execution_count": 16,
   "metadata": {
    "slideshow": {
     "slide_type": "subslide"
    }
   },
   "outputs": [
    {
     "data": {
      "application/vnd.jupyter.widget-view+json": {
       "model_id": "dc83a7f107b84e3fb6f02bf2d114ecae",
       "version_major": 2,
       "version_minor": 0
      },
      "text/plain": [
       "MapView(layout=Layout(height='400px', width='100%'))"
      ]
     },
     "metadata": {},
     "output_type": "display_data"
    },
    {
     "data": {
      "text/html": [
       "<div class=\"map-static-img-preview-914efe6b-af65-4db4-a9bc-1d2e984a84cf\"><img src=\"\"></img></div>"
      ],
      "text/plain": [
       "<IPython.core.display.HTML object>"
      ]
     },
     "metadata": {},
     "output_type": "display_data"
    },
    {
     "data": {
      "text/html": [
       "<div class=\"map-html-embed-preview-914efe6b-af65-4db4-a9bc-1d2e984a84cf\"></div>"
      ],
      "text/plain": [
       "<IPython.core.display.HTML object>"
      ]
     },
     "metadata": {},
     "output_type": "display_data"
    }
   ],
   "source": [
    "m2 = gis.map('Pittsburgh')\n",
    "m2.add_layer(basin)\n",
    "m2"
   ]
  },
  {
   "cell_type": "markdown",
   "metadata": {
    "slideshow": {
     "slide_type": "subslide"
    }
   },
   "source": [
    "> *Note that while we're pulling our data from online sources, you could also read in your own geometry here from a shapefile on disk.*"
   ]
  },
  {
   "cell_type": "markdown",
   "metadata": {
    "slideshow": {
     "slide_type": "slide"
    }
   },
   "source": [
    "## Intersecting Pixels w/ the Area of Interest\n",
    "\n",
    "Now that we know how to get pixel data, and know how to get area of interest data, we can perform a spatial intersection to IDs of the pixels in the area of interest, which we'll use in a query to the Teragon API."
   ]
  },
  {
   "cell_type": "markdown",
   "metadata": {
    "slideshow": {
     "slide_type": "subslide"
    }
   },
   "source": [
    "Using the `garrd_grid` feature layer and the `saw_mill_run` feature_set, running and intersect is pretty easy:"
   ]
  },
  {
   "cell_type": "code",
   "execution_count": 17,
   "metadata": {
    "slideshow": {
     "slide_type": "fragment"
    }
   },
   "outputs": [],
   "source": [
    "# construct the filter using the geometry module\n",
    "sa_filter = geometry.filters.intersects(geometry=basin.features[0].geometry, sr=4326)\n",
    "# then use that filter in a query of the the pixel data\n",
    "pixels_of_interest = garrd_grid.query(geometry_filter=sa_filter, out_sr=4326)"
   ]
  },
  {
   "cell_type": "code",
   "execution_count": 18,
   "metadata": {
    "slideshow": {
     "slide_type": "subslide"
    }
   },
   "outputs": [
    {
     "data": {
      "application/vnd.jupyter.widget-view+json": {
       "model_id": "d8147b7f874a4704b474b6158081dc51",
       "version_major": 2,
       "version_minor": 0
      },
      "text/plain": [
       "MapView(layout=Layout(height='400px', width='100%'))"
      ]
     },
     "metadata": {},
     "output_type": "display_data"
    },
    {
     "data": {
      "text/html": [
       "<div class=\"map-static-img-preview-a6c13abb-1009-4f26-8b81-ee189d0ead72\"><img src=\"\"></img></div>"
      ],
      "text/plain": [
       "<IPython.core.display.HTML object>"
      ]
     },
     "metadata": {},
     "output_type": "display_data"
    },
    {
     "data": {
      "text/html": [
       "<div class=\"map-html-embed-preview-a6c13abb-1009-4f26-8b81-ee189d0ead72\"></div>"
      ],
      "text/plain": [
       "<IPython.core.display.HTML object>"
      ]
     },
     "metadata": {},
     "output_type": "display_data"
    }
   ],
   "source": [
    "m3 = gis.map('Pittsburgh')\n",
    "m3.add_layer(pixels_of_interest)\n",
    "m3"
   ]
  },
  {
   "cell_type": "markdown",
   "metadata": {
    "slideshow": {
     "slide_type": "subslide"
    }
   },
   "source": [
    "There they are: pixels covering the Saw Mill Run watershed. Let's get a list of IDs, since that's what we're after.\n",
    "\n",
    "First, let's introspect so we know what to go after:"
   ]
  },
  {
   "cell_type": "code",
   "execution_count": 19,
   "metadata": {
    "slideshow": {
     "slide_type": "fragment"
    }
   },
   "outputs": [
    {
     "data": {
      "text/plain": [
       "{\"geometry\": {\"rings\": [[[-80.0475764477203, 40.5659130044032], [-80.047883686099, 40.5749156295791], [-80.0360770815008, 40.5751493312659], [-80.0357714203079, 40.5661466752918], [-80.0475764477203, 40.5659130044032]]]}, \"attributes\": {\"OBJECTID\": 539, \"PIXEL\": \"143124\", \"Shape__Area\": 10763910.416626, \"Shape__Length\": 13123.3595800102}}"
      ]
     },
     "execution_count": 19,
     "metadata": {},
     "output_type": "execute_result"
    }
   ],
   "source": [
    "pixels_of_interest.features[0]"
   ]
  },
  {
   "cell_type": "markdown",
   "metadata": {
    "slideshow": {
     "slide_type": "subslide"
    }
   },
   "source": [
    "We can see that each Feature object is represented as a Python dictionary, and the ID is stored under `attributes` in the `PIXEL` property. We can get all the Pixel IDS out into a list with a one-liner:"
   ]
  },
  {
   "cell_type": "code",
   "execution_count": 20,
   "metadata": {
    "slideshow": {
     "slide_type": "fragment"
    }
   },
   "outputs": [
    {
     "name": "stdout",
     "output_type": "stream",
     "text": [
      "['145128', '144125', '148133', '147130', '148135', '145127', '150131', '144131', '150132', '146128', '148131', '145125', '149132', '146130', '148132', '150133', '146129', '144126', '144128', '144124', '143126', '143124', '149134', '149130', '145131', '147133', '149133', '144127', '148134', '144129', '145126', '148130', '147134', '147132', '143130', '143128', '143129', '145129', '148129', '149135', '143127', '146127', '149131', '146126', '143125', '145130', '144130', '147131', '146131']\n"
     ]
    }
   ],
   "source": [
    "pixel_ids = list(set([f.attributes['PIXEL'] for f in pixels_of_interest.features]))\n",
    "print(pixel_ids)"
   ]
  },
  {
   "cell_type": "markdown",
   "metadata": {
    "slideshow": {
     "slide_type": "slide"
    }
   },
   "source": [
    "## Getting rainfall data for those locations\n",
    "\n",
    "Similar to before, except this time:\n",
    "\n",
    "* we're coming with a list of pixels for our area of interest\n",
    "* we use the realtime radar pixels endpoint\n"
   ]
  },
  {
   "cell_type": "code",
   "execution_count": 21,
   "metadata": {
    "slideshow": {
     "slide_type": "fragment"
    }
   },
   "outputs": [],
   "source": [
    "# note that our pixels kwarg is comma-delimited string, rather than a Python list.\n",
    "pixels_str = \",\".join(pixel_ids)\n",
    "\n",
    "response = requests.post(\n",
    "    url=\"http://localhost:7000/rainfall/v2/pixel/realtime/\",\n",
    "    json={\n",
    "        'start_dt':'2021-02-28T00:00:00',\n",
    "        'end_dt':'2021-03-02T00:00:00',\n",
    "        'rollup': 'daily',\n",
    "        'pixels': pixels_str,\n",
    "        'f': 'sensor'\n",
    "    }\n",
    ")"
   ]
  },
  {
   "cell_type": "code",
   "execution_count": 22,
   "metadata": {
    "slideshow": {
     "slide_type": "subslide"
    }
   },
   "outputs": [
    {
     "name": "stdout",
     "output_type": "stream",
     "text": [
      "started ...\n",
      "started ...\n",
      "started ...\n",
      "started ...\n",
      "started ...\n",
      "started ...\n",
      "started ...\n",
      "started ...\n",
      "started ...\n",
      "Done!\n",
      " {'args': {'sensor_ids': '145128,144125,148133,147130,148135,145127,150131,144131,150132,146128,148131,145125,149132,146130,148132,150133,146129,144126,144128,144124,143126,143124,149134,149130,145131,147133,149133,144127,148134,144129,145126,148130,147134,147132,143130,143128,143129,145129,148129,149135,143127,146127,149131,146126,143125,145130,144130,147131,146131', 'start_dt': '2021-02-28T00:00:00-05:00', 'end_dt': '2021-03-02T00:00:00-05:00', 'rollup': 'daily', 'zerofill': True, 'f': 'sensor'}, 'meta': {'records': 49, 'jobId': 'db842d97-08c5-4027-a8eb-11fdf256062d', 'jobUrl': 'http://localhost:7000/rainfall/v2/pixel/realtime/db842d97-08c5-4027-a8eb-11fdf256062d/'}, 'data': [{'id': '143124', 'data': [{'ts': '2021-02-28', 'val': 0.695, 'src': 'R'}, {'ts': '2021-03-01', 'val': 0.321, 'src': 'R'}, {'ts': '2021-03-02', 'val': 0, 'src': 'R'}]}, {'id': '143125', 'data': [{'ts': '2021-02-28', 'val': 0.7, 'src': 'R'}, {'ts': '2021-03-01', 'val': 0.298, 'src': 'R'}, {'ts': '2021-03-02', 'val': 0, 'src': 'R'}]}, {'id': '143126', 'data': [{'ts': '2021-02-28', 'val': 0.665, 'src': 'R'}, {'ts': '2021-03-01', 'val': 0.282, 'src': 'R'}, {'ts': '2021-03-02', 'val': 0, 'src': 'R'}]}, {'id': '143127', 'data': [{'ts': '2021-02-28', 'val': 0.633, 'src': 'R'}, {'ts': '2021-03-01', 'val': 0.277, 'src': 'R'}, {'ts': '2021-03-02', 'val': 0, 'src': 'R'}]}, {'id': '143128', 'data': [{'ts': '2021-02-28', 'val': 0.626, 'src': 'R'}, {'ts': '2021-03-01', 'val': 0.269, 'src': 'R'}, {'ts': '2021-03-02', 'val': 0, 'src': 'R'}]}, {'id': '143129', 'data': [{'ts': '2021-02-28', 'val': 0.622, 'src': 'R'}, {'ts': '2021-03-01', 'val': 0.244, 'src': 'R'}, {'ts': '2021-03-02', 'val': 0, 'src': 'R'}]}, {'id': '143130', 'data': [{'ts': '2021-02-28', 'val': 0.635, 'src': 'R'}, {'ts': '2021-03-01', 'val': 0.248, 'src': 'R'}, {'ts': '2021-03-02', 'val': 0, 'src': 'R'}]}, {'id': '144124', 'data': [{'ts': '2021-02-28', 'val': 0.706, 'src': 'R'}, {'ts': '2021-03-01', 'val': 0.306, 'src': 'R'}, {'ts': '2021-03-02', 'val': 0, 'src': 'R'}]}, {'id': '144125', 'data': [{'ts': '2021-02-28', 'val': 0.723, 'src': 'R'}, {'ts': '2021-03-01', 'val': 0.306, 'src': 'R'}, {'ts': '2021-03-02', 'val': 0, 'src': 'R'}]}, {'id': '144126', 'data': [{'ts': '2021-02-28', 'val': 0.693, 'src': 'R'}, {'ts': '2021-03-01', 'val': 0.285, 'src': 'R'}, {'ts': '2021-03-02', 'val': 0, 'src': 'R'}]}, {'id': '144127', 'data': [{'ts': '2021-02-28', 'val': 0.662, 'src': 'R'}, {'ts': '2021-03-01', 'val': 0.289, 'src': 'R'}, {'ts': '2021-03-02', 'val': 0, 'src': 'R'}]}, {'id': '144128', 'data': [{'ts': '2021-02-28', 'val': 0.641, 'src': 'R'}, {'ts': '2021-03-01', 'val': 0.262, 'src': 'R'}, {'ts': '2021-03-02', 'val': 0, 'src': 'R'}]}, {'id': '144129', 'data': [{'ts': '2021-02-28', 'val': 0.64, 'src': 'R'}, {'ts': '2021-03-01', 'val': 0.241, 'src': 'R'}, {'ts': '2021-03-02', 'val': 0, 'src': 'R'}]}, {'id': '144130', 'data': [{'ts': '2021-02-28', 'val': 0.645, 'src': 'R'}, {'ts': '2021-03-01', 'val': 0.254, 'src': 'R'}, {'ts': '2021-03-02', 'val': 0, 'src': 'R'}]}, {'id': '144131', 'data': [{'ts': '2021-02-28', 'val': 0.663, 'src': 'R'}, {'ts': '2021-03-01', 'val': 0.241, 'src': 'R'}, {'ts': '2021-03-02', 'val': 0, 'src': 'R'}]}, {'id': '145125', 'data': [{'ts': '2021-02-28', 'val': 0.719, 'src': 'R'}, {'ts': '2021-03-01', 'val': 0.271, 'src': 'R'}, {'ts': '2021-03-02', 'val': 0, 'src': 'R'}]}, {'id': '145126', 'data': [{'ts': '2021-02-28', 'val': 0.706, 'src': 'R'}, {'ts': '2021-03-01', 'val': 0.284, 'src': 'R'}, {'ts': '2021-03-02', 'val': 0, 'src': 'R'}]}, {'id': '145127', 'data': [{'ts': '2021-02-28', 'val': 0.685, 'src': 'R'}, {'ts': '2021-03-01', 'val': 0.273, 'src': 'R'}, {'ts': '2021-03-02', 'val': 0, 'src': 'R'}]}, {'id': '145128', 'data': [{'ts': '2021-02-28', 'val': 0.657, 'src': 'R'}, {'ts': '2021-03-01', 'val': 0.253, 'src': 'R'}, {'ts': '2021-03-02', 'val': 0, 'src': 'R'}]}, {'id': '145129', 'data': [{'ts': '2021-02-28', 'val': 0.654, 'src': 'R'}, {'ts': '2021-03-01', 'val': 0.249, 'src': 'R'}, {'ts': '2021-03-02', 'val': 0, 'src': 'R'}]}, {'id': '145130', 'data': [{'ts': '2021-02-28', 'val': 0.661, 'src': 'R'}, {'ts': '2021-03-01', 'val': 0.248, 'src': 'R'}, {'ts': '2021-03-02', 'val': 0, 'src': 'R'}]}, {'id': '145131', 'data': [{'ts': '2021-02-28', 'val': 0.704, 'src': 'R'}, {'ts': '2021-03-01', 'val': 0.227, 'src': 'R'}, {'ts': '2021-03-02', 'val': 0, 'src': 'R'}]}, {'id': '146126', 'data': [{'ts': '2021-02-28', 'val': 0.702, 'src': 'R'}, {'ts': '2021-03-01', 'val': 0.271, 'src': 'R'}, {'ts': '2021-03-02', 'val': 0, 'src': 'R'}]}, {'id': '146127', 'data': [{'ts': '2021-02-28', 'val': 0.68, 'src': 'R'}, {'ts': '2021-03-01', 'val': 0.253, 'src': 'R'}, {'ts': '2021-03-02', 'val': 0, 'src': 'R'}]}, {'id': '146128', 'data': [{'ts': '2021-02-28', 'val': 0.68, 'src': 'R'}, {'ts': '2021-03-01', 'val': 0.269, 'src': 'R'}, {'ts': '2021-03-02', 'val': 0, 'src': 'R'}]}, {'id': '146129', 'data': [{'ts': '2021-02-28', 'val': 0.681, 'src': 'R'}, {'ts': '2021-03-01', 'val': 0.246, 'src': 'R'}, {'ts': '2021-03-02', 'val': 0, 'src': 'R'}]}, {'id': '146130', 'data': [{'ts': '2021-02-28', 'val': 0.678, 'src': 'R'}, {'ts': '2021-03-01', 'val': 0.252, 'src': 'R'}, {'ts': '2021-03-02', 'val': 0, 'src': 'R'}]}, {'id': '146131', 'data': [{'ts': '2021-02-28', 'val': 0.713, 'src': 'R'}, {'ts': '2021-03-01', 'val': 0.211, 'src': 'R'}, {'ts': '2021-03-02', 'val': 0, 'src': 'R'}]}, {'id': '147130', 'data': [{'ts': '2021-02-28', 'val': 0.678, 'src': 'R'}, {'ts': '2021-03-01', 'val': 0.233, 'src': 'R'}, {'ts': '2021-03-02', 'val': 0, 'src': 'R'}]}, {'id': '147131', 'data': [{'ts': '2021-02-28', 'val': 0.713, 'src': 'R'}, {'ts': '2021-03-01', 'val': 0.194, 'src': 'R'}, {'ts': '2021-03-02', 'val': 0, 'src': 'R'}]}, {'id': '147132', 'data': [{'ts': '2021-02-28', 'val': 0.708, 'src': 'R'}, {'ts': '2021-03-01', 'val': 0.18, 'src': 'R'}, {'ts': '2021-03-02', 'val': 0, 'src': 'R'}]}, {'id': '147133', 'data': [{'ts': '2021-02-28', 'val': 0.755, 'src': 'R'}, {'ts': '2021-03-01', 'val': 0.208, 'src': 'R'}, {'ts': '2021-03-02', 'val': 0, 'src': 'R'}]}, {'id': '147134', 'data': [{'ts': '2021-02-28', 'val': 0.799, 'src': 'R'}, {'ts': '2021-03-01', 'val': 0.217, 'src': 'R'}, {'ts': '2021-03-02', 'val': 0, 'src': 'R'}]}, {'id': '148129', 'data': [{'ts': '2021-02-28', 'val': 0.646, 'src': 'R'}, {'ts': '2021-03-01', 'val': 0.255, 'src': 'R'}, {'ts': '2021-03-02', 'val': 0, 'src': 'R'}]}, {'id': '148130', 'data': [{'ts': '2021-02-28', 'val': 0.685, 'src': 'R'}, {'ts': '2021-03-01', 'val': 0.221, 'src': 'R'}, {'ts': '2021-03-02', 'val': 0, 'src': 'R'}]}, {'id': '148131', 'data': [{'ts': '2021-02-28', 'val': 0.719, 'src': 'R'}, {'ts': '2021-03-01', 'val': 0.188, 'src': 'R'}, {'ts': '2021-03-02', 'val': 0, 'src': 'R'}]}, {'id': '148132', 'data': [{'ts': '2021-02-28', 'val': 0.726, 'src': 'R'}, {'ts': '2021-03-01', 'val': 0.184, 'src': 'R'}, {'ts': '2021-03-02', 'val': 0, 'src': 'R'}]}, {'id': '148133', 'data': [{'ts': '2021-02-28', 'val': 0.807, 'src': 'R'}, {'ts': '2021-03-01', 'val': 0.196, 'src': 'R'}, {'ts': '2021-03-02', 'val': 0, 'src': 'R'}]}, {'id': '148134', 'data': [{'ts': '2021-02-28', 'val': 0.802, 'src': 'R'}, {'ts': '2021-03-01', 'val': 0.217, 'src': 'R'}, {'ts': '2021-03-02', 'val': 0, 'src': 'R'}]}, {'id': '148135', 'data': [{'ts': '2021-02-28', 'val': 0.837, 'src': 'R'}, {'ts': '2021-03-01', 'val': 0.217, 'src': 'R'}, {'ts': '2021-03-02', 'val': 0, 'src': 'R'}]}, {'id': '149130', 'data': [{'ts': '2021-02-28', 'val': 0.704, 'src': 'R'}, {'ts': '2021-03-01', 'val': 0.229, 'src': 'R'}, {'ts': '2021-03-02', 'val': 0, 'src': 'R'}]}, {'id': '149131', 'data': [{'ts': '2021-02-28', 'val': 0.786, 'src': 'R'}, {'ts': '2021-03-01', 'val': 0.2, 'src': 'R'}, {'ts': '2021-03-02', 'val': 0, 'src': 'R'}]}, {'id': '149132', 'data': [{'ts': '2021-02-28', 'val': 0.787, 'src': 'R'}, {'ts': '2021-03-01', 'val': 0.212, 'src': 'R'}, {'ts': '2021-03-02', 'val': 0, 'src': 'R'}]}, {'id': '149133', 'data': [{'ts': '2021-02-28', 'val': 0.822, 'src': 'R'}, {'ts': '2021-03-01', 'val': 0.199, 'src': 'R'}, {'ts': '2021-03-02', 'val': 0, 'src': 'R'}]}, {'id': '149134', 'data': [{'ts': '2021-02-28', 'val': 0.803, 'src': 'R'}, {'ts': '2021-03-01', 'val': 0.205, 'src': 'R'}, {'ts': '2021-03-02', 'val': 0, 'src': 'R'}]}, {'id': '149135', 'data': [{'ts': '2021-02-28', 'val': 0.817, 'src': 'R'}, {'ts': '2021-03-01', 'val': 0.21, 'src': 'R'}, {'ts': '2021-03-02', 'val': 0, 'src': 'R'}]}, {'id': '150131', 'data': [{'ts': '2021-02-28', 'val': 0.774, 'src': 'R'}, {'ts': '2021-03-01', 'val': 0.206, 'src': 'R'}, {'ts': '2021-03-02', 'val': 0, 'src': 'R'}]}, {'id': '150132', 'data': [{'ts': '2021-02-28', 'val': 0.78, 'src': 'R'}, {'ts': '2021-03-01', 'val': 0.207, 'src': 'R'}, {'ts': '2021-03-02', 'val': 0, 'src': 'R'}]}, {'id': '150133', 'data': [{'ts': '2021-02-28', 'val': 0.808, 'src': 'R'}, {'ts': '2021-03-01', 'val': 0.205, 'src': 'R'}, {'ts': '2021-03-02', 'val': 0, 'src': 'R'}]}], 'status': 'finished', 'status_code': 200, 'messages': []}\n"
     ]
    }
   ],
   "source": [
    "done = False\n",
    "\n",
    "while done == False:\n",
    "    \n",
    "    job = requests.get(response.json()['meta']['jobUrl'])\n",
    "    j = job.json()\n",
    "    \n",
    "    if j['status'] == 'finished':\n",
    "        done = True\n",
    "        print(\"Done!\\n\", job.json())\n",
    "        \n",
    "    elif j['status'] in ['deferred', 'failed', \"does not exist\", 'error']:\n",
    "        done = True\n",
    "        print(\"Something went wrong: {0}\".format(\"; \".join([m for m in j['messages']])))\n",
    "            \n",
    "    else:\n",
    "        print(j['status'],\"...\")\n",
    "        sleep(2)"
   ]
  },
  {
   "cell_type": "markdown",
   "metadata": {
    "slideshow": {
     "slide_type": "subslide"
    }
   },
   "source": [
    "Take a look at the results:"
   ]
  },
  {
   "cell_type": "code",
   "execution_count": 23,
   "metadata": {
    "slideshow": {
     "slide_type": "fragment"
    }
   },
   "outputs": [
    {
     "data": {
      "text/html": [
       "<table class='petl'>\n",
       "<thead>\n",
       "<tr>\n",
       "<th>id</th>\n",
       "<th>data</th>\n",
       "</tr>\n",
       "</thead>\n",
       "<tbody>\n",
       "<tr>\n",
       "<td>143124</td>\n",
       "<td>[{'ts': '2021-02-28', 'val': 0.695, 'src': 'R'}, {'ts': '2021-03-01', 'val': 0.321, 'src': 'R'}, {'ts': '2021-03-02', 'val': 0, 'src': 'R'}]</td>\n",
       "</tr>\n",
       "<tr>\n",
       "<td>143125</td>\n",
       "<td>[{'ts': '2021-02-28', 'val': 0.7, 'src': 'R'}, {'ts': '2021-03-01', 'val': 0.298, 'src': 'R'}, {'ts': '2021-03-02', 'val': 0, 'src': 'R'}]</td>\n",
       "</tr>\n",
       "<tr>\n",
       "<td>143126</td>\n",
       "<td>[{'ts': '2021-02-28', 'val': 0.665, 'src': 'R'}, {'ts': '2021-03-01', 'val': 0.282, 'src': 'R'}, {'ts': '2021-03-02', 'val': 0, 'src': 'R'}]</td>\n",
       "</tr>\n",
       "<tr>\n",
       "<td>143127</td>\n",
       "<td>[{'ts': '2021-02-28', 'val': 0.633, 'src': 'R'}, {'ts': '2021-03-01', 'val': 0.277, 'src': 'R'}, {'ts': '2021-03-02', 'val': 0, 'src': 'R'}]</td>\n",
       "</tr>\n",
       "<tr>\n",
       "<td>143128</td>\n",
       "<td>[{'ts': '2021-02-28', 'val': 0.626, 'src': 'R'}, {'ts': '2021-03-01', 'val': 0.269, 'src': 'R'}, {'ts': '2021-03-02', 'val': 0, 'src': 'R'}]</td>\n",
       "</tr>\n",
       "</tbody>\n",
       "</table>\n",
       "<p><strong>...</strong></p>"
      ]
     },
     "metadata": {},
     "output_type": "display_data"
    }
   ],
   "source": [
    "result_table = etl.fromdicts(j['data'])\n",
    "etl.vis.display(result_table)"
   ]
  },
  {
   "cell_type": "markdown",
   "metadata": {
    "slideshow": {
     "slide_type": "subslide"
    }
   },
   "source": [
    "Using PETL we can calculate a total for our timeseries as well:"
   ]
  },
  {
   "cell_type": "code",
   "execution_count": 24,
   "metadata": {
    "slideshow": {
     "slide_type": "fragment"
    }
   },
   "outputs": [
    {
     "data": {
      "text/html": [
       "<table class='petl'>\n",
       "<thead>\n",
       "<tr>\n",
       "<th>id</th>\n",
       "<th>data</th>\n",
       "<th>total</th>\n",
       "</tr>\n",
       "</thead>\n",
       "<tbody>\n",
       "<tr>\n",
       "<td>143124</td>\n",
       "<td>[{'ts': '2021-02-28', 'val': 0.695, 'src': 'R'}, {'ts': '2021-03-01', 'val': 0.321, 'src': 'R'}, {'ts': '2021-03-02', 'val': 0, 'src': 'R'}]</td>\n",
       "<td style='text-align: right'>1.02</td>\n",
       "</tr>\n",
       "<tr>\n",
       "<td>143125</td>\n",
       "<td>[{'ts': '2021-02-28', 'val': 0.7, 'src': 'R'}, {'ts': '2021-03-01', 'val': 0.298, 'src': 'R'}, {'ts': '2021-03-02', 'val': 0, 'src': 'R'}]</td>\n",
       "<td style='text-align: right'>1.0</td>\n",
       "</tr>\n",
       "<tr>\n",
       "<td>143126</td>\n",
       "<td>[{'ts': '2021-02-28', 'val': 0.665, 'src': 'R'}, {'ts': '2021-03-01', 'val': 0.282, 'src': 'R'}, {'ts': '2021-03-02', 'val': 0, 'src': 'R'}]</td>\n",
       "<td style='text-align: right'>0.95</td>\n",
       "</tr>\n",
       "<tr>\n",
       "<td>143127</td>\n",
       "<td>[{'ts': '2021-02-28', 'val': 0.633, 'src': 'R'}, {'ts': '2021-03-01', 'val': 0.277, 'src': 'R'}, {'ts': '2021-03-02', 'val': 0, 'src': 'R'}]</td>\n",
       "<td style='text-align: right'>0.91</td>\n",
       "</tr>\n",
       "<tr>\n",
       "<td>143128</td>\n",
       "<td>[{'ts': '2021-02-28', 'val': 0.626, 'src': 'R'}, {'ts': '2021-03-01', 'val': 0.269, 'src': 'R'}, {'ts': '2021-03-02', 'val': 0, 'src': 'R'}]</td>\n",
       "<td style='text-align: right'>0.9</td>\n",
       "</tr>\n",
       "</tbody>\n",
       "</table>\n",
       "<p><strong>...</strong></p>"
      ],
      "text/plain": [
       "+----------+----------------------------------------------------------------------------------------------------------------------------------------------+-------+\n",
       "| id       | data                                                                                                                                         | total |\n",
       "+==========+==============================================================================================================================================+=======+\n",
       "| '143124' | [{'ts': '2021-02-28', 'val': 0.695, 'src': 'R'}, {'ts': '2021-03-01', 'val': 0.321, 'src': 'R'}, {'ts': '2021-03-02', 'val': 0, 'src': 'R'}] |  1.02 |\n",
       "+----------+----------------------------------------------------------------------------------------------------------------------------------------------+-------+\n",
       "| '143125' | [{'ts': '2021-02-28', 'val': 0.7, 'src': 'R'}, {'ts': '2021-03-01', 'val': 0.298, 'src': 'R'}, {'ts': '2021-03-02', 'val': 0, 'src': 'R'}]   |   1.0 |\n",
       "+----------+----------------------------------------------------------------------------------------------------------------------------------------------+-------+\n",
       "| '143126' | [{'ts': '2021-02-28', 'val': 0.665, 'src': 'R'}, {'ts': '2021-03-01', 'val': 0.282, 'src': 'R'}, {'ts': '2021-03-02', 'val': 0, 'src': 'R'}] |  0.95 |\n",
       "+----------+----------------------------------------------------------------------------------------------------------------------------------------------+-------+\n",
       "| '143127' | [{'ts': '2021-02-28', 'val': 0.633, 'src': 'R'}, {'ts': '2021-03-01', 'val': 0.277, 'src': 'R'}, {'ts': '2021-03-02', 'val': 0, 'src': 'R'}] |  0.91 |\n",
       "+----------+----------------------------------------------------------------------------------------------------------------------------------------------+-------+\n",
       "| '143128' | [{'ts': '2021-02-28', 'val': 0.626, 'src': 'R'}, {'ts': '2021-03-01', 'val': 0.269, 'src': 'R'}, {'ts': '2021-03-02', 'val': 0, 'src': 'R'}] |   0.9 |\n",
       "+----------+----------------------------------------------------------------------------------------------------------------------------------------------+-------+\n",
       "..."
      ]
     },
     "execution_count": 24,
     "metadata": {},
     "output_type": "execute_result"
    }
   ],
   "source": [
    "result_table = etl.addfield(\n",
    "    result_table, \n",
    "    'total', \n",
    "    lambda row: round(sum(\n",
    "        [t['val'] for t in row['data'] if t['val'] is not None]\n",
    "    ), 2)\n",
    ")\n",
    "result_table"
   ]
  },
  {
   "cell_type": "markdown",
   "metadata": {},
   "source": [
    "## Get the results on the map\n",
    "\n",
    "We update the each feature in the layer with the total"
   ]
  },
  {
   "cell_type": "code",
   "execution_count": 32,
   "metadata": {},
   "outputs": [],
   "source": [
    "# make a copy since we're going to modify the layer in place\n",
    "pixel_layer = deepcopy(pixels_of_interest)\n",
    "\n",
    "# for f in pixels_geojson['features']:\n",
    "for f in pixel_layer.features:\n",
    "    # get the pixel ID\n",
    "    p = f.attributes['PIXEL']\n",
    "    # use that to select the row in our table; get row as a dict\n",
    "    t = etl\\\n",
    "        .selecteq(result_table, 'id', p)\\\n",
    "        .cutout('data', 'id')\\\n",
    "        .dicts()\n",
    "    # update the feature's attributes with the total\n",
    "    f.attributes.update(t[0])"
   ]
  },
  {
   "cell_type": "markdown",
   "metadata": {
    "slideshow": {
     "slide_type": "subslide"
    }
   },
   "source": [
    "Since we've added a new property to the attributes object, we also need to describe that as a new field in the layer object:"
   ]
  },
  {
   "cell_type": "code",
   "execution_count": 33,
   "metadata": {
    "slideshow": {
     "slide_type": "fragment"
    }
   },
   "outputs": [],
   "source": [
    "new_fields = [\n",
    "    {\n",
    "        'name': 'total',\n",
    "        'type': 'esriFieldTypeDouble',\n",
    "        'alias': 'total',\n",
    "        'sqlType': 'sqlTypeOther',\n",
    "        'domain': None,\n",
    "        'defaultValue': None\n",
    "    }\n",
    "]\n",
    "\n",
    "pixels_of_interest.fields.extend(new_fields)"
   ]
  },
  {
   "cell_type": "markdown",
   "metadata": {
    "slideshow": {
     "slide_type": "subslide"
    }
   },
   "source": [
    "Finally, we're ready to put that on a map:"
   ]
  },
  {
   "cell_type": "code",
   "execution_count": 36,
   "metadata": {
    "slideshow": {
     "slide_type": "subslide"
    }
   },
   "outputs": [
    {
     "data": {
      "application/vnd.jupyter.widget-view+json": {
       "model_id": "f0b6c5a759fe4c68a94f59935a576af2",
       "version_major": 2,
       "version_minor": 0
      },
      "text/plain": [
       "MapView(layout=Layout(height='400px', width='100%'))"
      ]
     },
     "metadata": {},
     "output_type": "display_data"
    },
    {
     "data": {
      "text/html": [
       "<div class=\"map-static-img-preview-7f6ffa29-c03b-4aab-b9df-e464b7f0a463\"><img src=\"\"></img></div>"
      ],
      "text/plain": [
       "<IPython.core.display.HTML object>"
      ]
     },
     "metadata": {},
     "output_type": "display_data"
    },
    {
     "data": {
      "text/html": [
       "<div class=\"map-html-embed-preview-7f6ffa29-c03b-4aab-b9df-e464b7f0a463\"></div>"
      ],
      "text/plain": [
       "<IPython.core.display.HTML object>"
      ]
     },
     "metadata": {},
     "output_type": "display_data"
    }
   ],
   "source": [
    "map_widget = gis.map('Pittsburgh')\n",
    "map_widget.add_layer(\n",
    "    pixel_layer, \n",
    "    options={\"opacity\":1, \"renderer\": \"ClassedColorRenderer\", \"field_name\":\"total\"}\n",
    ")\n",
    "map_widget"
   ]
  },
  {
   "cell_type": "markdown",
   "metadata": {
    "slideshow": {
     "slide_type": "slide"
    }
   },
   "source": [
    "# So...that seemed like a lot of work?\n",
    "\n",
    "Our users are potentially looking at using this data in ways we can't accomodate in a web app. \n",
    "\n",
    "This presentation is also the notebook that we'll share with them so they can create their own custom workflows."
   ]
  },
  {
   "cell_type": "markdown",
   "metadata": {
    "slideshow": {
     "slide_type": "subslide"
    }
   },
   "source": [
    "For those who just want to see and download rainfall data? [There's an app for that](https:/3rww.github.io/rainfall)."
   ]
  }
 ],
 "metadata": {
  "celltoolbar": "Slideshow",
  "kernelspec": {
   "display_name": "Python 3",
   "language": "python",
   "name": "python3"
  },
  "language_info": {
   "codemirror_mode": {
    "name": "ipython",
    "version": 3
   },
   "file_extension": ".py",
   "mimetype": "text/x-python",
   "name": "python",
   "nbconvert_exporter": "python",
   "pygments_lexer": "ipython3",
   "version": "3.7.9"
  }
 },
 "nbformat": 4,
 "nbformat_minor": 2
}
