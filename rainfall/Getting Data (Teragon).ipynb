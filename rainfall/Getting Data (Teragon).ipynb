{
 "cells": [
  {
   "cell_type": "markdown",
   "metadata": {},
   "source": [
    "# Get Gauge-Adjusted Radar Rainfall Data with the Teragon Rainfall API\n",
    "\n",
    "> *This notebook is a work-in-progress*\n",
    "\n",
    "*Get timeseries rainfall data for an area of interest within Allegheny County*\n",
    "\n",
    "---\n",
    "\n",
    "When radar estimates of rainfall are calibrated with actual rain gauge data, a highly accurate and valuable source of rainfall data can be calculated over large geographic areas. The result is called *Calibrated Radar Rainfall Data*, or *Gauge-Adjusted Radar Rainfall Data (GARRD)*\n",
    "\n",
    "3 Rivers Wet Weather (3RWW), with support from [Vieux Associates](http://www.vieuxinc.com/), uses calibrated data from the NEXRAD radar located in Moon Township, PA with rain gauge measurements collected during the same time period and rain event for every square kilometer in Allegheny County. The resulting rainfall data is equivalent in accuracy to having 2,276 rain gauges placed across the County.\n",
    "\n",
    "You can view and explore this data on 3RWW's calibrated radar rainfall data site at [www.3riverswetweather.org/municipalities/calibrated-radar-rainfall-data](http://www.3riverswetweather.org/municipalities/calibrated-radar-rainfall-data)\n",
    "\n",
    "This notebook walks through how to programmatically access 3RWW's massive repository of high resolution spatiotemporal rainfall data for Allegheny County via the ***Teragon Rainfall Dataset API***. Complete documentation for the API is available at [3rww.github.io/api-docs](https://3rww.github.io/api-docs/?language=Python#teragon-rainfall-dataset-api-10)."
   ]
  },
  {
   "cell_type": "markdown",
   "metadata": {},
   "source": [
    "## First: Notebook Setup\n",
    "\n",
    "~~This assumes your Python environment is setup in accordance with the the recommendations in the ***Getting Started*** notebook.~~"
   ]
  },
  {
   "cell_type": "code",
   "execution_count": 1,
   "metadata": {},
   "outputs": [],
   "source": [
    "import json"
   ]
  },
  {
   "cell_type": "markdown",
   "metadata": {},
   "source": [
    "We're going to use a few external Python packages to make our lives easier:"
   ]
  },
  {
   "cell_type": "code",
   "execution_count": 2,
   "metadata": {},
   "outputs": [],
   "source": [
    "# Requests - HTTP requests for humans\n",
    "import requests\n",
    "# PETL - an Extract/Transform/Load toolbox\n",
    "import petl as etl\n",
    "# sortedcontainers provides a way to have sorted dictionaries (before Python 3.7)\n",
    "from sortedcontainers import SortedDict\n",
    "# Python DateUtil (parser) - a helper for reading timestamps\n",
    "from dateutil.parser import parse\n",
    "# ArcGIS API for Python - for accessing 3RWW's open reference datasets in ArcGIS Online\n",
    "from arcgis.gis import GIS\n",
    "# for displaying things from the ArcGIS Online in this Jupyter notebook\n",
    "from IPython.display import display"
   ]
  },
  {
   "cell_type": "markdown",
   "metadata": {},
   "source": [
    "## 1. The basics of getting gauge-adjusted radar rainfall data\n",
    "\n",
    "Getting rainfall data programmatically is a mostly straightforward endeavor: it requires you to submit a HTTP request with parameters specifying locations and a time range. It returns a `csv`-like plain-text response where time intervals are on the x-axis, locations are the y-axis, and values are rainfall amounts. Complete API documentation is available at [3rww.github.io/api-docs](https://3rww.github.io/api-docs/?language=Python#teragon-rainfall-dataset-api-10).\n",
    "\n",
    "The challenge comes in formulating the location for this request. Location is specified with a \"pixel ID\", which translates to a location on a 1-kilometer grid set over Allegheny County, PA. The pixel (or pixels) is a required parameter; finding and entering those raw values is somewhat tedious.\n",
    "\n",
    "To demonstrate the basics of making a call to the API, we'll first use some pre-selected pixel values; we'll demonstrate how to get pixel locations from geodata later on, and then revisit submitting the request for specific locations.\n",
    "\n",
    "\n",
    "### Assemble the request payload\n",
    "\n",
    "We'll use the Python `requests` library to make our calls to the API.\n",
    "\n",
    "We'll use Hurricane Ivan in 2004 as an example (2004-09-17 03:00 to 2004-09-18 00:00). The request payload for that event looks like this:"
   ]
  },
  {
   "cell_type": "code",
   "execution_count": 3,
   "metadata": {},
   "outputs": [],
   "source": [
    "payload = {\n",
    "    'startyear': 2004,\n",
    "    'startmonth': 9,\n",
    "    'startday': 17,\n",
    "    'starthour': 3,\n",
    "    'endyear': 2004,\n",
    "    'endmonth': 9,\n",
    "    'endday': 18,\n",
    "    'endhour': 0,\n",
    "    'pixels': '148,134;149,134;148,133;149,133',\n",
    "    'interval': 'Hourly',\n",
    "    'zerofill': 'yes'\n",
    "}"
   ]
  },
  {
   "cell_type": "markdown",
   "metadata": {},
   "source": [
    "Using the Teragon Rainfall Dataset API only accesspts `POST` requests. Using the Python `requests` library, then, we construct our call like this:"
   ]
  },
  {
   "cell_type": "code",
   "execution_count": 4,
   "metadata": {},
   "outputs": [],
   "source": [
    "response = requests.post(\n",
    "    url=\"http://web.3riverswetweather.org/trp:API.pixel\",\n",
    "    data=payload\n",
    ")"
   ]
  },
  {
   "cell_type": "markdown",
   "metadata": {},
   "source": [
    "As mentioned earlier, the API returns a `csv`-like plain-text response where time intervals are on the x-axis, locations are the y-axis, and values are rainfall amounts. You can print the response:"
   ]
  },
  {
   "cell_type": "code",
   "execution_count": 5,
   "metadata": {},
   "outputs": [
    {
     "name": "stdout",
     "output_type": "stream",
     "text": [
      "Timestamp,148-134,,149-134,,148-133,,149-133,\n",
      "2004/09/17 03:00:00,0.0000,-,0.0000,-,0.0000,-,0.0000,-\n",
      "2004/09/17 04:00:00,0.0040,-,0.0010,-,0.0050,-,0.0020,-\n",
      "2004/09/17 05:00:00,0.0030,-,0.0030,-,0.0100,-,0.0030,-\n",
      "2004/09/17 06:00:00,0.0430,-,0.0400,-,0.0450,-,0.0410,-\n",
      "2004/09/17 07:00:00,0.1370,-,0.1389,-,0.1300,-,0.1430,-\n",
      "2004/09/17 08:00:00,0.1090,-,0.1140,-,0.1040,-,0.1080,-\n",
      "2004/09/17 09:00:00,0.2160,-,0.2200,-,0.1770,-,0.2089,-\n",
      "2004/09/17 10:00:00,0.4260,-,0.3669,-,0.4610,-,0.4109,-\n",
      "2004/09/17 11:00:00,0.4520,-,0.4100,-,0.4700,-,0.4560,-\n",
      "2004/09/17 12:00:00,0.5590,-,0.6290,-,0.4390,-,0.4760,-\n",
      "2004/09/17 13:00:00,1.4609,-,1.0550,-,0.9660,-,0.6470,-\n",
      "2004/09/17 14:00:00,1.0889,-,1.1510,-,1.0340,-,1.0679,-\n",
      "2004/09/17 15:00:00,0.7379,-,0.8900,-,0.6890,-,0.8200,-\n",
      "2004/09/17 16:00:00,0.9260,-,0.8760,-,0.9860,-,0.8720,-\n",
      "2004/09/17 17:00:00,0.3690,-,0.3609,-,0.3480,-,0.3409,-\n",
      "2004/09/17 18:00:00,0.1948,-,0.1950,-,0.1669,-,0.1968,-\n",
      "2004/09/17 19:00:00,0.1940,-,0.1810,-,0.1700,-,0.1740,-\n",
      "2004/09/17 20:00:00,0.0510,-,0.0510,-,0.0600,-,0.0540,-\n",
      "2004/09/17 21:00:00,0.0690,-,0.0810,-,0.0670,-,0.0780,-\n",
      "2004/09/17 22:00:00,0.4060,-,0.4750,-,0.3959,-,0.4820,-\n",
      "2004/09/17 23:00:00,0.2150,-,0.2400,-,0.1950,-,0.2079,-\n",
      "TOTAL,7.6615,,7.4787,,6.9188,,6.7893,\n",
      "\n"
     ]
    }
   ],
   "source": [
    "print(response.text)"
   ]
  },
  {
   "cell_type": "markdown",
   "metadata": {},
   "source": [
    "That's a little hard to read, so we'll use the wonderful Python `PETL` library to get something human-readable."
   ]
  },
  {
   "cell_type": "code",
   "execution_count": 6,
   "metadata": {},
   "outputs": [
    {
     "data": {
      "text/html": [
       "<table class='petl'>\n",
       "<thead>\n",
       "<tr>\n",
       "<th>Timestamp</th>\n",
       "<th>148-134</th>\n",
       "<th></th>\n",
       "<th>149-134</th>\n",
       "<th></th>\n",
       "<th>148-133</th>\n",
       "<th></th>\n",
       "<th>149-133</th>\n",
       "<th></th>\n",
       "</tr>\n",
       "</thead>\n",
       "<tbody>\n",
       "<tr>\n",
       "<td>2004/09/17 03:00:00</td>\n",
       "<td>0.0000</td>\n",
       "<td>-</td>\n",
       "<td>0.0000</td>\n",
       "<td>-</td>\n",
       "<td>0.0000</td>\n",
       "<td>-</td>\n",
       "<td>0.0000</td>\n",
       "<td>-</td>\n",
       "</tr>\n",
       "<tr>\n",
       "<td>2004/09/17 04:00:00</td>\n",
       "<td>0.0040</td>\n",
       "<td>-</td>\n",
       "<td>0.0010</td>\n",
       "<td>-</td>\n",
       "<td>0.0050</td>\n",
       "<td>-</td>\n",
       "<td>0.0020</td>\n",
       "<td>-</td>\n",
       "</tr>\n",
       "<tr>\n",
       "<td>2004/09/17 05:00:00</td>\n",
       "<td>0.0030</td>\n",
       "<td>-</td>\n",
       "<td>0.0030</td>\n",
       "<td>-</td>\n",
       "<td>0.0100</td>\n",
       "<td>-</td>\n",
       "<td>0.0030</td>\n",
       "<td>-</td>\n",
       "</tr>\n",
       "<tr>\n",
       "<td>2004/09/17 06:00:00</td>\n",
       "<td>0.0430</td>\n",
       "<td>-</td>\n",
       "<td>0.0400</td>\n",
       "<td>-</td>\n",
       "<td>0.0450</td>\n",
       "<td>-</td>\n",
       "<td>0.0410</td>\n",
       "<td>-</td>\n",
       "</tr>\n",
       "<tr>\n",
       "<td>2004/09/17 07:00:00</td>\n",
       "<td>0.1370</td>\n",
       "<td>-</td>\n",
       "<td>0.1389</td>\n",
       "<td>-</td>\n",
       "<td>0.1300</td>\n",
       "<td>-</td>\n",
       "<td>0.1430</td>\n",
       "<td>-</td>\n",
       "</tr>\n",
       "<tr>\n",
       "<td>2004/09/17 08:00:00</td>\n",
       "<td>0.1090</td>\n",
       "<td>-</td>\n",
       "<td>0.1140</td>\n",
       "<td>-</td>\n",
       "<td>0.1040</td>\n",
       "<td>-</td>\n",
       "<td>0.1080</td>\n",
       "<td>-</td>\n",
       "</tr>\n",
       "<tr>\n",
       "<td>2004/09/17 09:00:00</td>\n",
       "<td>0.2160</td>\n",
       "<td>-</td>\n",
       "<td>0.2200</td>\n",
       "<td>-</td>\n",
       "<td>0.1770</td>\n",
       "<td>-</td>\n",
       "<td>0.2089</td>\n",
       "<td>-</td>\n",
       "</tr>\n",
       "<tr>\n",
       "<td>2004/09/17 10:00:00</td>\n",
       "<td>0.4260</td>\n",
       "<td>-</td>\n",
       "<td>0.3669</td>\n",
       "<td>-</td>\n",
       "<td>0.4610</td>\n",
       "<td>-</td>\n",
       "<td>0.4109</td>\n",
       "<td>-</td>\n",
       "</tr>\n",
       "<tr>\n",
       "<td>2004/09/17 11:00:00</td>\n",
       "<td>0.4520</td>\n",
       "<td>-</td>\n",
       "<td>0.4100</td>\n",
       "<td>-</td>\n",
       "<td>0.4700</td>\n",
       "<td>-</td>\n",
       "<td>0.4560</td>\n",
       "<td>-</td>\n",
       "</tr>\n",
       "<tr>\n",
       "<td>2004/09/17 12:00:00</td>\n",
       "<td>0.5590</td>\n",
       "<td>-</td>\n",
       "<td>0.6290</td>\n",
       "<td>-</td>\n",
       "<td>0.4390</td>\n",
       "<td>-</td>\n",
       "<td>0.4760</td>\n",
       "<td>-</td>\n",
       "</tr>\n",
       "<tr>\n",
       "<td>2004/09/17 13:00:00</td>\n",
       "<td>1.4609</td>\n",
       "<td>-</td>\n",
       "<td>1.0550</td>\n",
       "<td>-</td>\n",
       "<td>0.9660</td>\n",
       "<td>-</td>\n",
       "<td>0.6470</td>\n",
       "<td>-</td>\n",
       "</tr>\n",
       "<tr>\n",
       "<td>2004/09/17 14:00:00</td>\n",
       "<td>1.0889</td>\n",
       "<td>-</td>\n",
       "<td>1.1510</td>\n",
       "<td>-</td>\n",
       "<td>1.0340</td>\n",
       "<td>-</td>\n",
       "<td>1.0679</td>\n",
       "<td>-</td>\n",
       "</tr>\n",
       "<tr>\n",
       "<td>2004/09/17 15:00:00</td>\n",
       "<td>0.7379</td>\n",
       "<td>-</td>\n",
       "<td>0.8900</td>\n",
       "<td>-</td>\n",
       "<td>0.6890</td>\n",
       "<td>-</td>\n",
       "<td>0.8200</td>\n",
       "<td>-</td>\n",
       "</tr>\n",
       "<tr>\n",
       "<td>2004/09/17 16:00:00</td>\n",
       "<td>0.9260</td>\n",
       "<td>-</td>\n",
       "<td>0.8760</td>\n",
       "<td>-</td>\n",
       "<td>0.9860</td>\n",
       "<td>-</td>\n",
       "<td>0.8720</td>\n",
       "<td>-</td>\n",
       "</tr>\n",
       "<tr>\n",
       "<td>2004/09/17 17:00:00</td>\n",
       "<td>0.3690</td>\n",
       "<td>-</td>\n",
       "<td>0.3609</td>\n",
       "<td>-</td>\n",
       "<td>0.3480</td>\n",
       "<td>-</td>\n",
       "<td>0.3409</td>\n",
       "<td>-</td>\n",
       "</tr>\n",
       "<tr>\n",
       "<td>2004/09/17 18:00:00</td>\n",
       "<td>0.1948</td>\n",
       "<td>-</td>\n",
       "<td>0.1950</td>\n",
       "<td>-</td>\n",
       "<td>0.1669</td>\n",
       "<td>-</td>\n",
       "<td>0.1968</td>\n",
       "<td>-</td>\n",
       "</tr>\n",
       "<tr>\n",
       "<td>2004/09/17 19:00:00</td>\n",
       "<td>0.1940</td>\n",
       "<td>-</td>\n",
       "<td>0.1810</td>\n",
       "<td>-</td>\n",
       "<td>0.1700</td>\n",
       "<td>-</td>\n",
       "<td>0.1740</td>\n",
       "<td>-</td>\n",
       "</tr>\n",
       "<tr>\n",
       "<td>2004/09/17 20:00:00</td>\n",
       "<td>0.0510</td>\n",
       "<td>-</td>\n",
       "<td>0.0510</td>\n",
       "<td>-</td>\n",
       "<td>0.0600</td>\n",
       "<td>-</td>\n",
       "<td>0.0540</td>\n",
       "<td>-</td>\n",
       "</tr>\n",
       "<tr>\n",
       "<td>2004/09/17 21:00:00</td>\n",
       "<td>0.0690</td>\n",
       "<td>-</td>\n",
       "<td>0.0810</td>\n",
       "<td>-</td>\n",
       "<td>0.0670</td>\n",
       "<td>-</td>\n",
       "<td>0.0780</td>\n",
       "<td>-</td>\n",
       "</tr>\n",
       "<tr>\n",
       "<td>2004/09/17 22:00:00</td>\n",
       "<td>0.4060</td>\n",
       "<td>-</td>\n",
       "<td>0.4750</td>\n",
       "<td>-</td>\n",
       "<td>0.3959</td>\n",
       "<td>-</td>\n",
       "<td>0.4820</td>\n",
       "<td>-</td>\n",
       "</tr>\n",
       "<tr>\n",
       "<td>2004/09/17 23:00:00</td>\n",
       "<td>0.2150</td>\n",
       "<td>-</td>\n",
       "<td>0.2400</td>\n",
       "<td>-</td>\n",
       "<td>0.1950</td>\n",
       "<td>-</td>\n",
       "<td>0.2079</td>\n",
       "<td>-</td>\n",
       "</tr>\n",
       "<tr>\n",
       "<td>TOTAL</td>\n",
       "<td>7.6615</td>\n",
       "<td></td>\n",
       "<td>7.4787</td>\n",
       "<td></td>\n",
       "<td>6.9188</td>\n",
       "<td></td>\n",
       "<td>6.7893</td>\n",
       "<td></td>\n",
       "</tr>\n",
       "</tbody>\n",
       "</table>\n"
      ]
     },
     "metadata": {},
     "output_type": "display_data"
    }
   ],
   "source": [
    "table = etl.fromcsv(etl.MemorySource(response.text.encode()))\n",
    "etl.vis.displayall(table)"
   ]
  },
  {
   "cell_type": "markdown",
   "metadata": {},
   "source": [
    "That's better. Note that each pixel column has a column that follows it: the API response includes data quality metadata for every value if it exists. In this example, there isn't any data quality issues noted, thus the `-` following every value.\n",
    "\n",
    "You can remove those additional columns and clean things up to make working with the data a bit simpler, as follows:"
   ]
  },
  {
   "cell_type": "code",
   "execution_count": 7,
   "metadata": {},
   "outputs": [
    {
     "data": {
      "text/html": [
       "<table class='petl'>\n",
       "<thead>\n",
       "<tr>\n",
       "<th>Timestamp</th>\n",
       "<th>148-134</th>\n",
       "<th>149-134</th>\n",
       "<th>148-133</th>\n",
       "<th>149-133</th>\n",
       "</tr>\n",
       "</thead>\n",
       "<tbody>\n",
       "<tr>\n",
       "<td>2004-09-17T03:00:00</td>\n",
       "<td>0.0000</td>\n",
       "<td>0.0000</td>\n",
       "<td>0.0000</td>\n",
       "<td>0.0000</td>\n",
       "</tr>\n",
       "<tr>\n",
       "<td>2004-09-17T04:00:00</td>\n",
       "<td>0.0040</td>\n",
       "<td>0.0010</td>\n",
       "<td>0.0050</td>\n",
       "<td>0.0020</td>\n",
       "</tr>\n",
       "<tr>\n",
       "<td>2004-09-17T05:00:00</td>\n",
       "<td>0.0030</td>\n",
       "<td>0.0030</td>\n",
       "<td>0.0100</td>\n",
       "<td>0.0030</td>\n",
       "</tr>\n",
       "<tr>\n",
       "<td>2004-09-17T06:00:00</td>\n",
       "<td>0.0430</td>\n",
       "<td>0.0400</td>\n",
       "<td>0.0450</td>\n",
       "<td>0.0410</td>\n",
       "</tr>\n",
       "<tr>\n",
       "<td>2004-09-17T07:00:00</td>\n",
       "<td>0.1370</td>\n",
       "<td>0.1389</td>\n",
       "<td>0.1300</td>\n",
       "<td>0.1430</td>\n",
       "</tr>\n",
       "<tr>\n",
       "<td>2004-09-17T08:00:00</td>\n",
       "<td>0.1090</td>\n",
       "<td>0.1140</td>\n",
       "<td>0.1040</td>\n",
       "<td>0.1080</td>\n",
       "</tr>\n",
       "<tr>\n",
       "<td>2004-09-17T09:00:00</td>\n",
       "<td>0.2160</td>\n",
       "<td>0.2200</td>\n",
       "<td>0.1770</td>\n",
       "<td>0.2089</td>\n",
       "</tr>\n",
       "<tr>\n",
       "<td>2004-09-17T10:00:00</td>\n",
       "<td>0.4260</td>\n",
       "<td>0.3669</td>\n",
       "<td>0.4610</td>\n",
       "<td>0.4109</td>\n",
       "</tr>\n",
       "<tr>\n",
       "<td>2004-09-17T11:00:00</td>\n",
       "<td>0.4520</td>\n",
       "<td>0.4100</td>\n",
       "<td>0.4700</td>\n",
       "<td>0.4560</td>\n",
       "</tr>\n",
       "<tr>\n",
       "<td>2004-09-17T12:00:00</td>\n",
       "<td>0.5590</td>\n",
       "<td>0.6290</td>\n",
       "<td>0.4390</td>\n",
       "<td>0.4760</td>\n",
       "</tr>\n",
       "<tr>\n",
       "<td>2004-09-17T13:00:00</td>\n",
       "<td>1.4609</td>\n",
       "<td>1.0550</td>\n",
       "<td>0.9660</td>\n",
       "<td>0.6470</td>\n",
       "</tr>\n",
       "<tr>\n",
       "<td>2004-09-17T14:00:00</td>\n",
       "<td>1.0889</td>\n",
       "<td>1.1510</td>\n",
       "<td>1.0340</td>\n",
       "<td>1.0679</td>\n",
       "</tr>\n",
       "<tr>\n",
       "<td>2004-09-17T15:00:00</td>\n",
       "<td>0.7379</td>\n",
       "<td>0.8900</td>\n",
       "<td>0.6890</td>\n",
       "<td>0.8200</td>\n",
       "</tr>\n",
       "<tr>\n",
       "<td>2004-09-17T16:00:00</td>\n",
       "<td>0.9260</td>\n",
       "<td>0.8760</td>\n",
       "<td>0.9860</td>\n",
       "<td>0.8720</td>\n",
       "</tr>\n",
       "<tr>\n",
       "<td>2004-09-17T17:00:00</td>\n",
       "<td>0.3690</td>\n",
       "<td>0.3609</td>\n",
       "<td>0.3480</td>\n",
       "<td>0.3409</td>\n",
       "</tr>\n",
       "<tr>\n",
       "<td>2004-09-17T18:00:00</td>\n",
       "<td>0.1948</td>\n",
       "<td>0.1950</td>\n",
       "<td>0.1669</td>\n",
       "<td>0.1968</td>\n",
       "</tr>\n",
       "<tr>\n",
       "<td>2004-09-17T19:00:00</td>\n",
       "<td>0.1940</td>\n",
       "<td>0.1810</td>\n",
       "<td>0.1700</td>\n",
       "<td>0.1740</td>\n",
       "</tr>\n",
       "<tr>\n",
       "<td>2004-09-17T20:00:00</td>\n",
       "<td>0.0510</td>\n",
       "<td>0.0510</td>\n",
       "<td>0.0600</td>\n",
       "<td>0.0540</td>\n",
       "</tr>\n",
       "<tr>\n",
       "<td>2004-09-17T21:00:00</td>\n",
       "<td>0.0690</td>\n",
       "<td>0.0810</td>\n",
       "<td>0.0670</td>\n",
       "<td>0.0780</td>\n",
       "</tr>\n",
       "<tr>\n",
       "<td>2004-09-17T22:00:00</td>\n",
       "<td>0.4060</td>\n",
       "<td>0.4750</td>\n",
       "<td>0.3959</td>\n",
       "<td>0.4820</td>\n",
       "</tr>\n",
       "<tr>\n",
       "<td>2004-09-17T23:00:00</td>\n",
       "<td>0.2150</td>\n",
       "<td>0.2400</td>\n",
       "<td>0.1950</td>\n",
       "<td>0.2079</td>\n",
       "</tr>\n",
       "</tbody>\n",
       "</table>\n"
      ]
     },
     "metadata": {},
     "output_type": "display_data"
    }
   ],
   "source": [
    "h = list(etl.header(table))\n",
    "xy_cols = zip(* [iter(h[1:])] * 2)\n",
    "\n",
    "# make a new header row\n",
    "new_header = ['Timestamp']\n",
    "fields_to_cut = []\n",
    "for each in xy_cols:\n",
    "    # correct id, assembled from columns\n",
    "    id_col, note_col = each[0], each[1]\n",
    "    # assemble new id column, to replace of PX column (which has data)\n",
    "    # id_col = \"{0}{1}\".format(px[:3], px[4:])\n",
    "    # assemble new notes column, to replace of PY column (which has notes)\n",
    "    notes_col = \"{0}-n\".format(id_col)\n",
    "    # add those to our new header (array)\n",
    "    new_header.extend([id_col, notes_col])\n",
    "    # track fields that we might want to remove\n",
    "    fields_to_cut.append(notes_col)\n",
    "\n",
    "# transform the table\n",
    "table_cleaned = etl \\\n",
    "    .setheader(table, new_header) \\\n",
    "    .cutout(*tuple(fields_to_cut))  \\\n",
    "    .select('Timestamp', lambda v: v.upper() != 'TOTAL')  \\\n",
    "    .convert('Timestamp', lambda t: parse(t).isoformat())  \\\n",
    "    .replaceall('N/D', None)\n",
    "\n",
    "etl.vis.displayall(table_cleaned)"
   ]
  },
  {
   "cell_type": "markdown",
   "metadata": {},
   "source": [
    "There it is. Export that to CSV with PETL like this:\n",
    "\n",
    "```python\n",
    "etl.tocsv(table_cleaned, \"path/to/save/your/data.csv\")\n",
    "```\n",
    "\n",
    "Now what if we want to work with this a key-value store? Try this:"
   ]
  },
  {
   "cell_type": "code",
   "execution_count": 8,
   "metadata": {},
   "outputs": [
    {
     "name": "stdout",
     "output_type": "stream",
     "text": [
      "{\n",
      "  \"148-133\": {\n",
      "    \"2004-09-17T03:00:00\": 0.0,\n",
      "    \"2004-09-17T04:00:00\": 0.005,\n",
      "    \"2004-09-17T05:00:00\": 0.01,\n",
      "    \"2004-09-17T06:00:00\": 0.045,\n",
      "    \"2004-09-17T07:00:00\": 0.13,\n",
      "    \"2004-09-17T08:00:00\": 0.104,\n",
      "    \"2004-09-17T09:00:00\": 0.177,\n",
      "    \"2004-09-17T10:00:00\": 0.461,\n",
      "    \"2004-09-17T11:00:00\": 0.47,\n",
      "    \"2004-09-17T12:00:00\": 0.439,\n",
      "    \"2004-09-17T13:00:00\": 0.966,\n",
      "    \"2004-09-17T14:00:00\": 1.034,\n",
      "    \"2004-09-17T15:00:00\": 0.689,\n",
      "    \"2004-09-17T16:00:00\": 0.986,\n",
      "    \"2004-09-17T17:00:00\": 0.348,\n",
      "    \"2004-09-17T18:00:00\": 0.1669,\n",
      "    \"2004-09-17T19:00:00\": 0.17,\n",
      "    \"2004-09-17T20:00:00\": 0.06,\n",
      "    \"2004-09-17T21:00:00\": 0.067,\n",
      "    \"2004-09-17T22:00:00\": 0.3959,\n",
      "    \"2004-09-17T23:00:00\": 0.195\n",
      "  },\n",
      "  \"148-134\": {\n",
      "    \"2004-09-17T03:00:00\": 0.0,\n",
      "    \"2004-09-17T04:00:00\": 0.004,\n",
      "    \"2004-09-17T05:00:00\": 0.003,\n",
      "    \"2004-09-17T06:00:00\": 0.043,\n",
      "    \"2004-09-17T07:00:00\": 0.137,\n",
      "    \"2004-09-17T08:00:00\": 0.109,\n",
      "    \"2004-09-17T09:00:00\": 0.216,\n",
      "    \"2004-09-17T10:00:00\": 0.426,\n",
      "    \"2004-09-17T11:00:00\": 0.452,\n",
      "    \"2004-09-17T12:00:00\": 0.559,\n",
      "    \"2004-09-17T13:00:00\": 1.4609,\n",
      "    \"2004-09-17T14:00:00\": 1.0889,\n",
      "    \"2004-09-17T15:00:00\": 0.7379,\n",
      "    \"2004-09-17T16:00:00\": 0.926,\n",
      "    \"2004-09-17T17:00:00\": 0.369,\n",
      "    \"2004-09-17T18:00:00\": 0.1948,\n",
      "    \"2004-09-17T19:00:00\": 0.194,\n",
      "    \"2004-09-17T20:00:00\": 0.051,\n",
      "    \"2004-09-17T21:00:00\": 0.069,\n",
      "    \"2004-09-17T22:00:00\": 0.406,\n",
      "    \"2004-09-17T23:00:00\": 0.215\n",
      "  },\n",
      "  \"149-133\": {\n",
      "    \"2004-09-17T03:00:00\": 0.0,\n",
      "    \"2004-09-17T04:00:00\": 0.002,\n",
      "    \"2004-09-17T05:00:00\": 0.003,\n",
      "    \"2004-09-17T06:00:00\": 0.041,\n",
      "    \"2004-09-17T07:00:00\": 0.143,\n",
      "    \"2004-09-17T08:00:00\": 0.108,\n",
      "    \"2004-09-17T09:00:00\": 0.2089,\n",
      "    \"2004-09-17T10:00:00\": 0.4109,\n",
      "    \"2004-09-17T11:00:00\": 0.456,\n",
      "    \"2004-09-17T12:00:00\": 0.476,\n",
      "    \"2004-09-17T13:00:00\": 0.647,\n",
      "    \"2004-09-17T14:00:00\": 1.0679,\n",
      "    \"2004-09-17T15:00:00\": 0.82,\n",
      "    \"2004-09-17T16:00:00\": 0.872,\n",
      "    \"2004-09-17T17:00:00\": 0.3409,\n",
      "    \"2004-09-17T18:00:00\": 0.1968,\n",
      "    \"2004-09-17T19:00:00\": 0.174,\n",
      "    \"2004-09-17T20:00:00\": 0.054,\n",
      "    \"2004-09-17T21:00:00\": 0.078,\n",
      "    \"2004-09-17T22:00:00\": 0.482,\n",
      "    \"2004-09-17T23:00:00\": 0.2079\n",
      "  },\n",
      "  \"149-134\": {\n",
      "    \"2004-09-17T03:00:00\": 0.0,\n",
      "    \"2004-09-17T04:00:00\": 0.001,\n",
      "    \"2004-09-17T05:00:00\": 0.003,\n",
      "    \"2004-09-17T06:00:00\": 0.04,\n",
      "    \"2004-09-17T07:00:00\": 0.1389,\n",
      "    \"2004-09-17T08:00:00\": 0.114,\n",
      "    \"2004-09-17T09:00:00\": 0.22,\n",
      "    \"2004-09-17T10:00:00\": 0.3669,\n",
      "    \"2004-09-17T11:00:00\": 0.41,\n",
      "    \"2004-09-17T12:00:00\": 0.629,\n",
      "    \"2004-09-17T13:00:00\": 1.055,\n",
      "    \"2004-09-17T14:00:00\": 1.151,\n",
      "    \"2004-09-17T15:00:00\": 0.89,\n",
      "    \"2004-09-17T16:00:00\": 0.876,\n",
      "    \"2004-09-17T17:00:00\": 0.3609,\n",
      "    \"2004-09-17T18:00:00\": 0.195,\n",
      "    \"2004-09-17T19:00:00\": 0.181,\n",
      "    \"2004-09-17T20:00:00\": 0.051,\n",
      "    \"2004-09-17T21:00:00\": 0.081,\n",
      "    \"2004-09-17T22:00:00\": 0.475,\n",
      "    \"2004-09-17T23:00:00\": 0.24\n",
      "  }\n",
      "}\n"
     ]
    }
   ],
   "source": [
    "data = SortedDict()\n",
    "for row in etl.transpose(table_cleaned).dicts():\n",
    "    inside = SortedDict()\n",
    "    for d in row.items():\n",
    "        if d[0] != 'Timestamp':\n",
    "            if d[1]:\n",
    "                v = float(d[1])\n",
    "            else:\n",
    "                v = d[1]\n",
    "            inside[d[0]] = v\n",
    "    data[row['Timestamp']] = inside\n",
    "print(json.dumps(data, indent=2))"
   ]
  },
  {
   "cell_type": "markdown",
   "metadata": {},
   "source": [
    "This provides a timeseries per-pixel.\n",
    "\n",
    "---\n",
    "\n",
    "*Note: We've started codifying the above processes in a \"wrapper API\" available at http://3rww-rainfall-api.civicmapper.com/apidocs/, so you don't have to post-process the data like we just demonstrated. Check it out.*"
   ]
  },
  {
   "cell_type": "markdown",
   "metadata": {},
   "source": [
    "## 2. Getting reference geodata\n",
    "\n",
    "As we've seen above, 3RWW's Rainfall Data API is not spatial: it returns rainfall values for locations at points in time, but those locations are only represented by 'Pixel' IDs; it does not provide actual geometry or coordinates for those pixels.\n",
    "\n",
    "To do anything that is location specific with this data (e.g., query rainfall a specific watershed), you'll want some geodata. \n",
    "\n",
    "### Pixels\n",
    "\n",
    "The pixels are available on [3RWW's Open Data Portal](http://data-3rww.opendata.arcgis.com/) and 3RWW's regular ArcGIS Online site at:\n",
    "\n",
    "* [data-3rww.opendata.arcgis.com/datasets/228b1584b89a45308ed4256c5bedd43d_1](https://data-3rww.opendata.arcgis.com/datasets/228b1584b89a45308ed4256c5bedd43d_1), and\n",
    "* [3rww.maps.arcgis.com/home/item.html?id=228b1584b89a45308ed4256c5bedd43d](https://3rww.maps.arcgis.com/home/item.html?id=228b1584b89a45308ed4256c5bedd43d)\n",
    "\n",
    "...respectively. We can retrieve it programmatically a couple of ways:\n",
    "\n",
    "* with the [ArcGIS API for Python](https://developers.arcgis.com/python/); or\n",
    "* by using the [Python Requests library](http://docs.python-requests.org/en/master/) to make a call directly to the Portal's ArcGIS REST API.\n",
    "\n",
    "We'll show both ways below. "
   ]
  },
  {
   "cell_type": "markdown",
   "metadata": {},
   "source": [
    "#### ...using the ArcGIS API for Python"
   ]
  },
  {
   "cell_type": "code",
   "execution_count": 9,
   "metadata": {},
   "outputs": [],
   "source": [
    "# Establish a connection to your 3RWW's ArcGIS Online portal.\n",
    "gis = GIS('https://3rww.maps.arcgis.com')"
   ]
  },
  {
   "cell_type": "markdown",
   "metadata": {},
   "source": [
    "We can search for the feature layer by name:"
   ]
  },
  {
   "cell_type": "code",
   "execution_count": 10,
   "metadata": {},
   "outputs": [
    {
     "data": {
      "text/html": [
       "<div class=\"item_container\" style=\"height: auto; overflow: hidden; border: 1px solid #cfcfcf; border-radius: 2px; background: #f6fafa; line-height: 1.21429em; padding: 10px;\">\n",
       "                    <div class=\"item_left\" style=\"width: 210px; float: left;\">\n",
       "                       <a href='https://3rww.maps.arcgis.com/home/item.html?id=228b1584b89a45308ed4256c5bedd43d' target='_blank'>\n",
       "                        <img src='https://3rww.maps.arcgis.com/sharing/rest//content/items/228b1584b89a45308ed4256c5bedd43d/info/thumbnail/thumbnail.png' class=\"itemThumbnail\">\n",
       "                       </a>\n",
       "                    </div>\n",
       "\n",
       "                    <div class=\"item_right\"     style=\"float: none; width: auto; overflow: hidden;\">\n",
       "                        <a href='https://3rww.maps.arcgis.com/home/item.html?id=228b1584b89a45308ed4256c5bedd43d' target='_blank'><b>Gauge Adjusted Radar Rainfall Data Geometry</b>\n",
       "                        </a>\n",
       "                        <br/>Geometry for 3RWW's Gauge-Adjusted Radar Rainfall Data. Note: this layer doesn't contain any rainfall data.<img src='https://3rww.maps.arcgis.com/home/js/jsapi/esri/css/images/item_type_icons/featureshosted16.png' style=\"vertical-align:middle;\">Feature Layer Collection by CM_3RWW\n",
       "                        <br/>Last Modified: November 07, 2018\n",
       "                        <br/>0 comments, 4 views\n",
       "                    </div>\n",
       "                </div>\n",
       "                "
      ],
      "text/plain": [
       "<Item title:\"Gauge Adjusted Radar Rainfall Data Geometry\" type:Feature Layer Collection owner:CM_3RWW>"
      ]
     },
     "metadata": {},
     "output_type": "display_data"
    }
   ],
   "source": [
    "search_results = gis.content.search('Gauge Adjusted Radar Rainfall Data')\n",
    "for item in search_results:\n",
    "    display(item)\n",
    "garrd_item = search_results[0]"
   ]
  },
  {
   "cell_type": "markdown",
   "metadata": {},
   "source": [
    "Alternatively, we can use the item `id` to directly find the feature layer:"
   ]
  },
  {
   "cell_type": "code",
   "execution_count": 11,
   "metadata": {},
   "outputs": [
    {
     "data": {
      "text/html": [
       "<div class=\"item_container\" style=\"height: auto; overflow: hidden; border: 1px solid #cfcfcf; border-radius: 2px; background: #f6fafa; line-height: 1.21429em; padding: 10px;\">\n",
       "                    <div class=\"item_left\" style=\"width: 210px; float: left;\">\n",
       "                       <a href='https://3rww.maps.arcgis.com/home/item.html?id=228b1584b89a45308ed4256c5bedd43d' target='_blank'>\n",
       "                        <img src='https://3rww.maps.arcgis.com/sharing/rest//content/items/228b1584b89a45308ed4256c5bedd43d/info/thumbnail/thumbnail.png' class=\"itemThumbnail\">\n",
       "                       </a>\n",
       "                    </div>\n",
       "\n",
       "                    <div class=\"item_right\"     style=\"float: none; width: auto; overflow: hidden;\">\n",
       "                        <a href='https://3rww.maps.arcgis.com/home/item.html?id=228b1584b89a45308ed4256c5bedd43d' target='_blank'><b>Gauge Adjusted Radar Rainfall Data Geometry</b>\n",
       "                        </a>\n",
       "                        <br/>Geometry for 3RWW's Gauge-Adjusted Radar Rainfall Data. Note: this layer doesn't contain any rainfall data.<img src='https://3rww.maps.arcgis.com/home/js/jsapi/esri/css/images/item_type_icons/featureshosted16.png' style=\"vertical-align:middle;\">Feature Layer Collection by CM_3RWW\n",
       "                        <br/>Last Modified: November 07, 2018\n",
       "                        <br/>0 comments, 26 views\n",
       "                    </div>\n",
       "                </div>\n",
       "                "
      ],
      "text/plain": [
       "<Item title:\"Gauge Adjusted Radar Rainfall Data Geometry\" type:Feature Layer Collection owner:CM_3RWW>"
      ]
     },
     "execution_count": 11,
     "metadata": {},
     "output_type": "execute_result"
    }
   ],
   "source": [
    "garrd_id = \"228b1584b89a45308ed4256c5bedd43d\"\n",
    "garrd_item = gis.content.get(itemid=garrd_id)\n",
    "garrd_item"
   ]
  },
  {
   "cell_type": "markdown",
   "metadata": {},
   "source": [
    "Either way gets us `gaard_item`: a feature layer *collection* item, which contains individual feature layers. This one (we know from clicking on the item above), has both points and polygons variants of the GARRD reference geometry. We're interested in the polygons (grid). Get that as follows:"
   ]
  },
  {
   "cell_type": "code",
   "execution_count": 12,
   "metadata": {},
   "outputs": [
    {
     "data": {
      "text/plain": [
       "[<FeatureLayer url:\"https://services6.arcgis.com/dMKWX9NPCcfmaZl3/arcgis/rest/services/garrd/FeatureServer/0\">,\n",
       " <FeatureLayer url:\"https://services6.arcgis.com/dMKWX9NPCcfmaZl3/arcgis/rest/services/garrd/FeatureServer/1\">]"
      ]
     },
     "execution_count": 12,
     "metadata": {},
     "output_type": "execute_result"
    }
   ],
   "source": [
    "garrd_item.layers"
   ]
  },
  {
   "cell_type": "code",
   "execution_count": 13,
   "metadata": {},
   "outputs": [
    {
     "data": {
      "text/plain": [
       "<FeatureLayer url:\"https://services6.arcgis.com/dMKWX9NPCcfmaZl3/arcgis/rest/services/garrd/FeatureServer/1\">"
      ]
     },
     "execution_count": 13,
     "metadata": {},
     "output_type": "execute_result"
    }
   ],
   "source": [
    "# it's the second item, index 1\n",
    "garrd_grid = garrd_item.layers[1]\n",
    "garrd_grid"
   ]
  },
  {
   "cell_type": "markdown",
   "metadata": {},
   "source": [
    "Since we're in a notebook now, the ArcGIS API for Python lets you put that on a map:"
   ]
  },
  {
   "cell_type": "code",
   "execution_count": 14,
   "metadata": {},
   "outputs": [
    {
     "data": {
      "application/vnd.jupyter.widget-view+json": {
       "model_id": "27419aa338634380b5b230253c0183de",
       "version_major": 2,
       "version_minor": 0
      },
      "text/plain": [
       "MapView(layout=Layout(height='400px', width='100%'))"
      ]
     },
     "metadata": {},
     "output_type": "display_data"
    },
    {
     "data": {
      "text/html": [
       "<div class=\"map-static-img-preview-3822066b-cce8-4b1d-901b-8008c463a435\"><img src=\"\"></img></div>"
      ],
      "text/plain": [
       "<IPython.core.display.HTML object>"
      ]
     },
     "metadata": {},
     "output_type": "display_data"
    }
   ],
   "source": [
    "m = gis.map('Pittsburgh')\n",
    "m.add_layer(garrd_grid)\n",
    "m"
   ]
  },
  {
   "cell_type": "markdown",
   "metadata": {},
   "source": [
    "Finally, we can turn that into a `geojson`-like Python dictionary."
   ]
  },
  {
   "cell_type": "code",
   "execution_count": 15,
   "metadata": {},
   "outputs": [],
   "source": [
    "q = garrd_grid.query(out_sr=4326)\n",
    "garrd_grid_geojson = q.to_geojson"
   ]
  },
  {
   "cell_type": "markdown",
   "metadata": {},
   "source": [
    "#### ...using `requests`\n",
    "\n",
    "This approach is a little more hands on, but works without fuss in vanilla Python environments (unlike the ArcGIS API for Python, which minimally requires an Anaconda Python distribution).\n",
    "\n",
    "We need to get the service `url` from the item detail page on 3RWW's Open Data Portal, and then construct query parameters for the request as a Python dictionary."
   ]
  },
  {
   "cell_type": "code",
   "execution_count": 17,
   "metadata": {},
   "outputs": [],
   "source": [
    "# service URL - note how '/query' is at the end of the URL\n",
    "service_url = 'https://services6.arcgis.com/dMKWX9NPCcfmaZl3/ArcGIS/rest/services/garrd/FeatureServer/1/query'\n",
    "# query string parameters\n",
    "params = {\n",
    "    'where': '1=1', # Esri's convention for returning everything from the ArcGIS REST API\n",
    "    'outFields': 'PIXEL', # only include the GARRD 'PIXEL' field\n",
    "    'outSR': '4326', # project as WGS 1984\n",
    "    'f': 'geojson' # return as geojson\n",
    "}"
   ]
  },
  {
   "cell_type": "code",
   "execution_count": 18,
   "metadata": {},
   "outputs": [
    {
     "data": {
      "text/plain": [
       "<Response [200]>"
      ]
     },
     "execution_count": 18,
     "metadata": {},
     "output_type": "execute_result"
    }
   ],
   "source": [
    "# make the request\n",
    "response = requests.get(service_url, params=params)\n",
    "response"
   ]
  },
  {
   "cell_type": "code",
   "execution_count": 19,
   "metadata": {},
   "outputs": [],
   "source": [
    "# this gets us the response as a geojson-like Python dictionary.\n",
    "garrd_grid_geojson = response.json()"
   ]
  },
  {
   "cell_type": "markdown",
   "metadata": {},
   "source": [
    "That gets us a `geojson` object of all pixels."
   ]
  },
  {
   "cell_type": "code",
   "execution_count": null,
   "metadata": {},
   "outputs": [],
   "source": []
  }
 ],
 "metadata": {
  "kernelspec": {
   "display_name": "Python 3",
   "language": "python",
   "name": "python3"
  },
  "language_info": {
   "codemirror_mode": {
    "name": "ipython",
    "version": 3
   },
   "file_extension": ".py",
   "mimetype": "text/x-python",
   "name": "python",
   "nbconvert_exporter": "python",
   "pygments_lexer": "ipython3",
   "version": "3.6.6"
  }
 },
 "nbformat": 4,
 "nbformat_minor": 2
}
