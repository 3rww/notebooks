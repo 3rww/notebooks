{
 "cells": [
  {
   "cell_type": "markdown",
   "metadata": {},
   "source": [
    "### Realtime Rainfall ETL\n",
    "An hourly scheduled notebook that performs and ETL process on recent RTRR and RTRG data and loads it into the appropriate feature layers in the realtimte timeseries map. The goal is to constantly updating data for the timeseries animation. We only delete/load the data that is necessary rather than loading all 72 hours of the data every hour.\n",
    "\n",
    "Parameters:\n",
    "\n",
    "CHUNK_SIZE - size of the chunks when adding and deleting features on AGOL - don't exceed 250\n",
    "\n",
    "NUM_OF_HOURS_ON_VIEW = number of hours that are displayed on the web map - defaults to 72 to view the last 72 hours worth of rainfall data\n",
    "\n",
    "HOURS_TO_UPDATE - the number of hours before the current time to go back and add to the web map - if 0 it will query for the latest pixel timestamp and add points after that\n",
    "\n",
    "\n",
    "Environment: conda activate arcgispro-py3\n"
   ]
  },
  {
   "cell_type": "code",
   "execution_count": 26,
   "metadata": {},
   "outputs": [],
   "source": [
    "import requests\n",
    "from datetime import datetime, timedelta, timezone\n",
    "import pytz\n",
    "import pandas as pd\n",
    "from urllib.parse import urljoin\n",
    "from arcgis.geometry import Polygon, Point\n",
    "from arcgis.gis import GIS\n",
    "from tqdm import tqdm"
   ]
  },
  {
   "cell_type": "code",
   "execution_count": 27,
   "metadata": {},
   "outputs": [],
   "source": [
    "CHUNK_SIZE = 40 #don't exceed 250\n",
    "NUM_OF_HOURS_ON_VIEW = 48\n",
    "HOURS_TO_UPDATE = 0\n",
    "\n",
    "RAINFALL_DATA_API_URL = \"https://trwwapi.herokuapp.com\"\n",
    "REALTIME_TIMESERIES_ITEM_ID = '412c957447f64e0a8975034f399725b5'\n",
    "REALTIME_TIMESERIES_POINTS_LAYER_INDEX = 0\n",
    "\n",
    "TZINFO = pytz.timezone('UTC')"
   ]
  },
  {
   "cell_type": "code",
   "execution_count": 28,
   "metadata": {},
   "outputs": [],
   "source": [
    "gis = GIS(username=\"CM_3RWW\") #Need the CM_3RWW profile - admin role"
   ]
  },
  {
   "cell_type": "code",
   "execution_count": 29,
   "metadata": {},
   "outputs": [],
   "source": [
    "realtime_timeseries_item = gis.content.get(REALTIME_TIMESERIES_ITEM_ID)\n",
    "realtime_timeseries_points = realtime_timeseries_item.layers[REALTIME_TIMESERIES_POINTS_LAYER_INDEX]"
   ]
  },
  {
   "cell_type": "code",
   "execution_count": 42,
   "metadata": {},
   "outputs": [],
   "source": [
    "def get_latest_ts_from_points_layer(layer = realtime_timeseries_points):\n",
    "    query = layer.query(where=\"1=1\", out_fields=\"ts\", order_by_fields=\"ts DESC\")\n",
    "    if not query.features: #No features\n",
    "        return None \n",
    "    latest_timestamp = query.features[0].attributes[\"ts\"]\n",
    "    latest_datetime = datetime.fromtimestamp(latest_timestamp / 1000, tz= TZINFO) #Need to divide on Windows\n",
    "    return latest_datetime\n",
    "\n",
    "\n",
    "def get_latest_ts_from_points_layer(layer = realtime_timeseries_points):\n",
    "    # Making sid = 1 to imporve performance in not having to sort through all the data - may lead to slight time errors\n",
    "    query = layer.query(where=\"sid='1'\", out_fields=\"ts\", order_by_fields=\"ts DESC\")\n",
    "    if not query.features: #No features\n",
    "        return None \n",
    "    latest_timestamp = query.features[0].attributes[\"ts\"]\n",
    "    latest_datetime = datetime.fromtimestamp(latest_timestamp / 1000, tz= TZINFO) #Need to divide on Windows\n",
    "    return latest_datetime\n",
    "\n",
    "def get_hours_before(end_datetime):\n",
    "    #If HOURS_TO_UPDATE is not specified - we grab the latest point from the layer\n",
    "    if HOURS_TO_UPDATE and 1 <= HOURS_TO_UPDATE <= NUM_OF_HOURS_ON_VIEW:\n",
    "        return HOURS_TO_UPDATE\n",
    "    latest_point = get_latest_ts_from_points_layer()\n",
    "    if not latest_point:\n",
    "        return NUM_OF_HOURS_ON_VIEW\n",
    "    time_difference = end_datetime - latest_point\n",
    "    hours_difference = (time_difference.seconds * 60 * 60)\n",
    "    if hours_difference > NUM_OF_HOURS_ON_VIEW:\n",
    "        return NUM_OF_HOURS_ON_VIEW\n",
    "    return hours_difference\n",
    "\n",
    "def get_points_df_from_3rww_api(end_datetime):\n",
    "    request_url = urljoin(RAINFALL_DATA_API_URL, \"rainfall/v3/realtime/ago/\")\n",
    "    hours_ago = get_hours_before(end_datetime)\n",
    "    response = requests.get(\n",
    "        url = request_url,\n",
    "        params = {\"hours\": hours_ago}\n",
    "    )\n",
    "    if response.status_code !=200:\n",
    "        return {\"success\": False, \"error_message\": f\"Failed with status code {response.status_code}\"}\n",
    "                \n",
    "    response_json = response.json()\n",
    "    points_df = pd.DataFrame(response_json[\"data\"], columns=response_json[\"columns\"] )\n",
    "    points_df = points_df[points_df[\"val\"] > 0] #Only need values where rain occurred (otherwise wouldn't appear in the map)\n",
    "    points_df[\"SHAPE\"] = points_df.apply(lambda r: {\"x\": r[\"x\"], \"y\": r[\"y\"], \"spatialReference\" : {\"wkid\": 4326}}, axis=1)\n",
    "    points_df.drop(columns=[\"x\", \"y\"])\n",
    "\n",
    "    return {\"success\": True, \"points_df\": points_df}\n",
    "\n",
    "def add_points_to_AGOL_realtime_timeseries_layer(layer = realtime_timeseries_points, df_to_add = None):\n",
    "    all_added = []\n",
    "    for i in tqdm(range(0, len(df_to_add.index), CHUNK_SIZE)):\n",
    "                #print(f\"adding {i} to {i+chunks}\")\n",
    "        adds = (df_to_add.iloc[i:i+CHUNK_SIZE,]).copy()\n",
    "        add_results = layer.edit_features(\n",
    "            adds=adds.spatial.to_featureset(), \n",
    "            rollback_on_failure=True\n",
    "        )\n",
    "        added = [x for x in add_results.get('addResults', []) if x.get('success')]\n",
    "        if added:\n",
    "            all_added.extend(added)\n",
    "        else:\n",
    "            print(f\"Error adding records @ batch {i+CHUNK_SIZE}\")\n",
    "            print(add_results)\n",
    "            print(all_added)\n",
    "\n",
    "def get_object_ids_to_remove(delete_datetime):\n",
    "    query_string = f\"ts < '{delete_datetime}'\"\n",
    "    delete_points_query = realtime_timeseries_points.query(where = query_string, return_ids_only=True)\n",
    "    delete_points_objectids_list = [str(objectId) for objectId in delete_points_query[\"objectIds\"]]\n",
    "    return delete_points_objectids_list\n",
    "    \n",
    "def delete_points_from_AGOL_realtime_timeseries_layer(layer = realtime_timeseries_points, delete_points_objectids_list = []):\n",
    "    all_removed = []\n",
    "    for i in tqdm(range(0, len(delete_points_objectids_list), CHUNK_SIZE)):\n",
    "        delete_results = layer.edit_features(\n",
    "            deletes = delete_points_objectids_list[i:i+CHUNK_SIZE],\n",
    "            rollback_on_failure = True,\n",
    "        )\n",
    "        removed = [x for x in delete_results.get('deleteResults', []) if x.get('success')]\n",
    "        if removed:\n",
    "            all_removed.extend(removed)\n",
    "        else:\n",
    "            print(f\"Error removing records @ batch {i+CHUNK_SIZE}\")\n",
    "            print(delete_results)\n",
    "            print(all_removed)"
   ]
  },
  {
   "cell_type": "code",
   "execution_count": 31,
   "metadata": {},
   "outputs": [],
   "source": [
    "def add_and_delete_points_on_AGOL_realtime_timeseries_layer():\n",
    "    \n",
    "    end_datetime = datetime.now(tz=TZINFO)\n",
    "    delete_datetime = end_datetime-timedelta(hours=NUM_OF_HOURS_ON_VIEW)\n",
    "    print(f\"Grabbing object ids to delete after {delete_datetime}\")\n",
    "    delete_object_ids = get_object_ids_to_remove(delete_datetime)\n",
    "\n",
    "    print(f\"Deleting {len(delete_object_ids)} from layer\")\n",
    "\n",
    "    delete_points_from_AGOL_realtime_timeseries_layer(delete_points_objectids_list=delete_object_ids)\n",
    "\n",
    "    print(f\"Getting recent points from 3rww api\")\n",
    "\n",
    "    status = get_points_df_from_3rww_api(end_datetime)\n",
    "\n",
    "    if not status[\"success\"]:\n",
    "        print(status[\"error_message\"])\n",
    "        return None\n",
    "    points_df = status[\"points_df\"]\n",
    "    print(f\"Adding {len(points_df)} to layer\")\n",
    "    \n",
    "    add_points_to_AGOL_realtime_timeseries_layer(df_to_add=points_df)"
   ]
  },
  {
   "cell_type": "code",
   "execution_count": 32,
   "metadata": {},
   "outputs": [
    {
     "name": "stdout",
     "output_type": "stream",
     "text": [
      "Grabbing object ids to delete after 2025-02-16 19:37:47.125945+00:00\n",
      "Deleting 76548 from layer\n"
     ]
    },
    {
     "name": "stderr",
     "output_type": "stream",
     "text": [
      "100%|██████████| 1914/1914 [05:31<00:00,  5.78it/s]\n"
     ]
    },
    {
     "name": "stdout",
     "output_type": "stream",
     "text": [
      "Getting recent points from 3rww api\n",
      "Adding 37718 to layer\n"
     ]
    },
    {
     "name": "stderr",
     "output_type": "stream",
     "text": [
      "  0%|          | 0/943 [00:00<?, ?it/s]\n"
     ]
    },
    {
     "ename": "KeyError",
     "evalue": "None",
     "output_type": "error",
     "traceback": [
      "\u001b[1;31m---------------------------------------------------------------------------\u001b[0m",
      "\u001b[1;31mKeyError\u001b[0m                                  Traceback (most recent call last)",
      "\u001b[1;32mc:\\Users\\mahit\\anaconda3\\envs\\arcgispro-py3\\Lib\\site-packages\\pandas\\core\\indexes\\base.py\u001b[0m in \u001b[0;36mget_loc\u001b[1;34m(self, key)\u001b[0m\n\u001b[0;32m   3651\u001b[0m         \u001b[1;32mtry\u001b[0m\u001b[1;33m:\u001b[0m\u001b[1;33m\u001b[0m\u001b[1;33m\u001b[0m\u001b[0m\n\u001b[1;32m-> 3652\u001b[1;33m             \u001b[1;32mreturn\u001b[0m \u001b[0mself\u001b[0m\u001b[1;33m.\u001b[0m\u001b[0m_engine\u001b[0m\u001b[1;33m.\u001b[0m\u001b[0mget_loc\u001b[0m\u001b[1;33m(\u001b[0m\u001b[0mcasted_key\u001b[0m\u001b[1;33m)\u001b[0m\u001b[1;33m\u001b[0m\u001b[1;33m\u001b[0m\u001b[0m\n\u001b[0m\u001b[0;32m   3653\u001b[0m         \u001b[1;32mexcept\u001b[0m \u001b[0mKeyError\u001b[0m \u001b[1;32mas\u001b[0m \u001b[0merr\u001b[0m\u001b[1;33m:\u001b[0m\u001b[1;33m\u001b[0m\u001b[1;33m\u001b[0m\u001b[0m\n",
      "\u001b[1;32mc:\\Users\\mahit\\anaconda3\\envs\\arcgispro-py3\\Lib\\site-packages\\pandas\\_libs\\index.pyx\u001b[0m in \u001b[0;36mpandas._libs.index.IndexEngine.get_loc\u001b[1;34m()\u001b[0m\n",
      "\u001b[1;32mc:\\Users\\mahit\\anaconda3\\envs\\arcgispro-py3\\Lib\\site-packages\\pandas\\_libs\\index.pyx\u001b[0m in \u001b[0;36mpandas._libs.index.IndexEngine.get_loc\u001b[1;34m()\u001b[0m\n",
      "\u001b[1;32mpandas\\_libs\\index_class_helper.pxi\u001b[0m in \u001b[0;36mpandas._libs.index.Int64Engine._check_type\u001b[1;34m()\u001b[0m\n",
      "\u001b[1;31mKeyError\u001b[0m: None",
      "\nThe above exception was the direct cause of the following exception:\n",
      "\u001b[1;31mKeyError\u001b[0m                                  Traceback (most recent call last)",
      "\u001b[1;32m~\\AppData\\Local\\Temp\\ipykernel_82804\\2339188052.py\u001b[0m in \u001b[0;36m<cell line: 0>\u001b[1;34m()\u001b[0m\n\u001b[1;32m----> 1\u001b[1;33m \u001b[0madd_and_delete_points_on_AGOL_realtime_timeseries_layer\u001b[0m\u001b[1;33m(\u001b[0m\u001b[1;33m)\u001b[0m\u001b[1;33m\u001b[0m\u001b[1;33m\u001b[0m\u001b[0m\n\u001b[0m",
      "\u001b[1;32m~\\AppData\\Local\\Temp\\ipykernel_82804\\2766061860.py\u001b[0m in \u001b[0;36madd_and_delete_points_on_AGOL_realtime_timeseries_layer\u001b[1;34m()\u001b[0m\n\u001b[0;32m     20\u001b[0m     \u001b[0mprint\u001b[0m\u001b[1;33m(\u001b[0m\u001b[1;34mf\"Adding {len(points_df)} to layer\"\u001b[0m\u001b[1;33m)\u001b[0m\u001b[1;33m\u001b[0m\u001b[1;33m\u001b[0m\u001b[0m\n\u001b[0;32m     21\u001b[0m \u001b[1;33m\u001b[0m\u001b[0m\n\u001b[1;32m---> 22\u001b[1;33m     \u001b[0madd_points_to_AGOL_realtime_timeseries_layer\u001b[0m\u001b[1;33m(\u001b[0m\u001b[0mdf_to_add\u001b[0m\u001b[1;33m=\u001b[0m\u001b[0mpoints_df\u001b[0m\u001b[1;33m)\u001b[0m\u001b[1;33m\u001b[0m\u001b[1;33m\u001b[0m\u001b[0m\n\u001b[0m",
      "\u001b[1;32m~\\AppData\\Local\\Temp\\ipykernel_82804\\2489928000.py\u001b[0m in \u001b[0;36madd_points_to_AGOL_realtime_timeseries_layer\u001b[1;34m(layer, df_to_add)\u001b[0m\n\u001b[0;32m     54\u001b[0m         \u001b[0madds\u001b[0m \u001b[1;33m=\u001b[0m \u001b[1;33m(\u001b[0m\u001b[0mdf_to_add\u001b[0m\u001b[1;33m.\u001b[0m\u001b[0mloc\u001b[0m\u001b[1;33m[\u001b[0m\u001b[0mi\u001b[0m\u001b[1;33m:\u001b[0m\u001b[0mi\u001b[0m\u001b[1;33m+\u001b[0m\u001b[0mCHUNK_SIZE\u001b[0m\u001b[1;33m,\u001b[0m\u001b[1;33m]\u001b[0m\u001b[1;33m)\u001b[0m\u001b[1;33m.\u001b[0m\u001b[0mcopy\u001b[0m\u001b[1;33m(\u001b[0m\u001b[1;33m)\u001b[0m\u001b[1;33m\u001b[0m\u001b[1;33m\u001b[0m\u001b[0m\n\u001b[0;32m     55\u001b[0m         add_results = layer.edit_features(\n\u001b[1;32m---> 56\u001b[1;33m             \u001b[0madds\u001b[0m\u001b[1;33m=\u001b[0m\u001b[0madds\u001b[0m\u001b[1;33m.\u001b[0m\u001b[0mspatial\u001b[0m\u001b[1;33m.\u001b[0m\u001b[0mto_featureset\u001b[0m\u001b[1;33m(\u001b[0m\u001b[1;33m)\u001b[0m\u001b[1;33m,\u001b[0m\u001b[1;33m\u001b[0m\u001b[1;33m\u001b[0m\u001b[0m\n\u001b[0m\u001b[0;32m     57\u001b[0m             \u001b[0mrollback_on_failure\u001b[0m\u001b[1;33m=\u001b[0m\u001b[1;32mTrue\u001b[0m\u001b[1;33m\u001b[0m\u001b[1;33m\u001b[0m\u001b[0m\n\u001b[0;32m     58\u001b[0m         )\n",
      "\u001b[1;32mc:\\Users\\mahit\\anaconda3\\envs\\arcgispro-py3\\Lib\\site-packages\\arcgis\\features\\geo\\_accessor.py\u001b[0m in \u001b[0;36mto_featureset\u001b[1;34m(self)\u001b[0m\n\u001b[0;32m   3713\u001b[0m         \u001b[1;32mfrom\u001b[0m \u001b[0marcgis\u001b[0m\u001b[1;33m.\u001b[0m\u001b[0mfeatures\u001b[0m \u001b[1;32mimport\u001b[0m \u001b[0mFeatureSet\u001b[0m\u001b[1;33m\u001b[0m\u001b[1;33m\u001b[0m\u001b[0m\n\u001b[0;32m   3714\u001b[0m \u001b[1;33m\u001b[0m\u001b[0m\n\u001b[1;32m-> 3715\u001b[1;33m         \u001b[0md\u001b[0m \u001b[1;33m=\u001b[0m \u001b[0mself\u001b[0m\u001b[1;33m.\u001b[0m\u001b[0m__feature_set__\u001b[0m\u001b[1;33m\u001b[0m\u001b[1;33m\u001b[0m\u001b[0m\n\u001b[0m\u001b[0;32m   3716\u001b[0m         \u001b[1;32mreturn\u001b[0m \u001b[0mFeatureSet\u001b[0m\u001b[1;33m.\u001b[0m\u001b[0mfrom_dict\u001b[0m\u001b[1;33m(\u001b[0m\u001b[0md\u001b[0m\u001b[1;33m)\u001b[0m\u001b[1;33m\u001b[0m\u001b[1;33m\u001b[0m\u001b[0m\n\u001b[0;32m   3717\u001b[0m \u001b[1;33m\u001b[0m\u001b[0m\n",
      "\u001b[1;32mc:\\Users\\mahit\\anaconda3\\envs\\arcgispro-py3\\Lib\\site-packages\\arcgis\\features\\geo\\_accessor.py\u001b[0m in \u001b[0;36m__feature_set__\u001b[1;34m(self)\u001b[0m\n\u001b[0;32m   3371\u001b[0m         \u001b[1;32melse\u001b[0m\u001b[1;33m:\u001b[0m\u001b[1;33m\u001b[0m\u001b[1;33m\u001b[0m\u001b[0m\n\u001b[0;32m   3372\u001b[0m             geom_type = _geom_types[\n\u001b[1;32m-> 3373\u001b[1;33m                 \u001b[0mtype\u001b[0m\u001b[1;33m(\u001b[0m\u001b[0mself\u001b[0m\u001b[1;33m.\u001b[0m\u001b[0m_data\u001b[0m\u001b[1;33m[\u001b[0m\u001b[0mself\u001b[0m\u001b[1;33m.\u001b[0m\u001b[0mname\u001b[0m\u001b[1;33m]\u001b[0m\u001b[1;33m[\u001b[0m\u001b[0mself\u001b[0m\u001b[1;33m.\u001b[0m\u001b[0m_data\u001b[0m\u001b[1;33m[\u001b[0m\u001b[0mself\u001b[0m\u001b[1;33m.\u001b[0m\u001b[0mname\u001b[0m\u001b[1;33m]\u001b[0m\u001b[1;33m.\u001b[0m\u001b[0mfirst_valid_index\u001b[0m\u001b[1;33m(\u001b[0m\u001b[1;33m)\u001b[0m\u001b[1;33m]\u001b[0m\u001b[1;33m)\u001b[0m\u001b[1;33m\u001b[0m\u001b[1;33m\u001b[0m\u001b[0m\n\u001b[0m\u001b[0;32m   3374\u001b[0m             ]\n\u001b[0;32m   3375\u001b[0m \u001b[1;33m\u001b[0m\u001b[0m\n",
      "\u001b[1;32mc:\\Users\\mahit\\anaconda3\\envs\\arcgispro-py3\\Lib\\site-packages\\pandas\\core\\series.py\u001b[0m in \u001b[0;36m__getitem__\u001b[1;34m(self, key)\u001b[0m\n\u001b[0;32m   1005\u001b[0m \u001b[1;33m\u001b[0m\u001b[0m\n\u001b[0;32m   1006\u001b[0m         \u001b[1;32melif\u001b[0m \u001b[0mkey_is_scalar\u001b[0m\u001b[1;33m:\u001b[0m\u001b[1;33m\u001b[0m\u001b[1;33m\u001b[0m\u001b[0m\n\u001b[1;32m-> 1007\u001b[1;33m             \u001b[1;32mreturn\u001b[0m \u001b[0mself\u001b[0m\u001b[1;33m.\u001b[0m\u001b[0m_get_value\u001b[0m\u001b[1;33m(\u001b[0m\u001b[0mkey\u001b[0m\u001b[1;33m)\u001b[0m\u001b[1;33m\u001b[0m\u001b[1;33m\u001b[0m\u001b[0m\n\u001b[0m\u001b[0;32m   1008\u001b[0m \u001b[1;33m\u001b[0m\u001b[0m\n\u001b[0;32m   1009\u001b[0m         \u001b[1;32mif\u001b[0m \u001b[0mis_hashable\u001b[0m\u001b[1;33m(\u001b[0m\u001b[0mkey\u001b[0m\u001b[1;33m)\u001b[0m\u001b[1;33m:\u001b[0m\u001b[1;33m\u001b[0m\u001b[1;33m\u001b[0m\u001b[0m\n",
      "\u001b[1;32mc:\\Users\\mahit\\anaconda3\\envs\\arcgispro-py3\\Lib\\site-packages\\pandas\\core\\series.py\u001b[0m in \u001b[0;36m_get_value\u001b[1;34m(self, label, takeable)\u001b[0m\n\u001b[0;32m   1114\u001b[0m \u001b[1;33m\u001b[0m\u001b[0m\n\u001b[0;32m   1115\u001b[0m         \u001b[1;31m# Similar to Index.get_value, but we do not fall back to positional\u001b[0m\u001b[1;33m\u001b[0m\u001b[1;33m\u001b[0m\u001b[0m\n\u001b[1;32m-> 1116\u001b[1;33m         \u001b[0mloc\u001b[0m \u001b[1;33m=\u001b[0m \u001b[0mself\u001b[0m\u001b[1;33m.\u001b[0m\u001b[0mindex\u001b[0m\u001b[1;33m.\u001b[0m\u001b[0mget_loc\u001b[0m\u001b[1;33m(\u001b[0m\u001b[0mlabel\u001b[0m\u001b[1;33m)\u001b[0m\u001b[1;33m\u001b[0m\u001b[1;33m\u001b[0m\u001b[0m\n\u001b[0m\u001b[0;32m   1117\u001b[0m \u001b[1;33m\u001b[0m\u001b[0m\n\u001b[0;32m   1118\u001b[0m         \u001b[1;32mif\u001b[0m \u001b[0mis_integer\u001b[0m\u001b[1;33m(\u001b[0m\u001b[0mloc\u001b[0m\u001b[1;33m)\u001b[0m\u001b[1;33m:\u001b[0m\u001b[1;33m\u001b[0m\u001b[1;33m\u001b[0m\u001b[0m\n",
      "\u001b[1;32mc:\\Users\\mahit\\anaconda3\\envs\\arcgispro-py3\\Lib\\site-packages\\pandas\\core\\indexes\\base.py\u001b[0m in \u001b[0;36mget_loc\u001b[1;34m(self, key)\u001b[0m\n\u001b[0;32m   3652\u001b[0m             \u001b[1;32mreturn\u001b[0m \u001b[0mself\u001b[0m\u001b[1;33m.\u001b[0m\u001b[0m_engine\u001b[0m\u001b[1;33m.\u001b[0m\u001b[0mget_loc\u001b[0m\u001b[1;33m(\u001b[0m\u001b[0mcasted_key\u001b[0m\u001b[1;33m)\u001b[0m\u001b[1;33m\u001b[0m\u001b[1;33m\u001b[0m\u001b[0m\n\u001b[0;32m   3653\u001b[0m         \u001b[1;32mexcept\u001b[0m \u001b[0mKeyError\u001b[0m \u001b[1;32mas\u001b[0m \u001b[0merr\u001b[0m\u001b[1;33m:\u001b[0m\u001b[1;33m\u001b[0m\u001b[1;33m\u001b[0m\u001b[0m\n\u001b[1;32m-> 3654\u001b[1;33m             \u001b[1;32mraise\u001b[0m \u001b[0mKeyError\u001b[0m\u001b[1;33m(\u001b[0m\u001b[0mkey\u001b[0m\u001b[1;33m)\u001b[0m \u001b[1;32mfrom\u001b[0m \u001b[0merr\u001b[0m\u001b[1;33m\u001b[0m\u001b[1;33m\u001b[0m\u001b[0m\n\u001b[0m\u001b[0;32m   3655\u001b[0m         \u001b[1;32mexcept\u001b[0m \u001b[0mTypeError\u001b[0m\u001b[1;33m:\u001b[0m\u001b[1;33m\u001b[0m\u001b[1;33m\u001b[0m\u001b[0m\n\u001b[0;32m   3656\u001b[0m             \u001b[1;31m# If we have a listlike key, _check_indexing_error will raise\u001b[0m\u001b[1;33m\u001b[0m\u001b[1;33m\u001b[0m\u001b[0m\n",
      "\u001b[1;31mKeyError\u001b[0m: None"
     ]
    }
   ],
   "source": [
    "add_and_delete_points_on_AGOL_realtime_timeseries_layer()"
   ]
  },
  {
   "cell_type": "code",
   "execution_count": 40,
   "metadata": {},
   "outputs": [],
   "source": [
    "end_datetime = datetime.now(tz=TZINFO)\n",
    "status = get_points_df_from_3rww_api(end_datetime)\n",
    "points_df = status[\"points_df\"]"
   ]
  },
  {
   "cell_type": "code",
   "execution_count": 41,
   "metadata": {},
   "outputs": [
    {
     "data": {
      "text/plain": [
       "<FeatureSet> 40 features"
      ]
     },
     "execution_count": 41,
     "metadata": {},
     "output_type": "execute_result"
    }
   ],
   "source": [
    "a = (points_df.iloc[0:CHUNK_SIZE,]).copy()\n",
    "a.spatial.to_featureset()"
   ]
  }
 ],
 "metadata": {
  "kernelspec": {
   "display_name": "arcgispro-py3",
   "language": "python",
   "name": "python3"
  },
  "language_info": {
   "codemirror_mode": {
    "name": "ipython",
    "version": 3
   },
   "file_extension": ".py",
   "mimetype": "text/x-python",
   "name": "python",
   "nbconvert_exporter": "python",
   "pygments_lexer": "ipython3",
   "version": "3.11.8"
  }
 },
 "nbformat": 4,
 "nbformat_minor": 2
}
